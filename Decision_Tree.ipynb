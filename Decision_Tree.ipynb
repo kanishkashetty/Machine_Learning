{
  "nbformat": 4,
  "nbformat_minor": 0,
  "metadata": {
    "colab": {
      "name": "Decision Tree.ipynb",
      "provenance": []
    },
    "kernelspec": {
      "name": "python3",
      "display_name": "Python 3"
    },
    "language_info": {
      "name": "python"
    }
  },
  "cells": [
    {
      "cell_type": "code",
      "execution_count": null,
      "metadata": {
        "id": "2BCnKVMvRtVq"
      },
      "outputs": [],
      "source": [
        "import pandas as pd\n",
        "import numpy as np\n",
        "import matplotlib.pyplot as plt\n",
        "import warnings\n",
        "warnings.filterwarnings(action = 'ignore')\n",
        "#plt.style.use(['seaborn-bright', 'dark_background'])"
      ]
    },
    {
      "cell_type": "markdown",
      "source": [
        "# Decision Tree"
      ],
      "metadata": {
        "id": "ySAlVNTIScND"
      }
    },
    {
      "cell_type": "code",
      "source": [
        "## Importing \n",
        "\n",
        "data = pd.read_csv('/content/drive/MyDrive/M8T3_helper_text/churn_prediction_simple.csv')\n",
        "data.head()"
      ],
      "metadata": {
        "colab": {
          "base_uri": "https://localhost:8080/",
          "height": 270
        },
        "id": "4MffV1VHSjhR",
        "outputId": "ae9c58ea-d3bc-4fc5-dee9-6e0f233d8dff"
      },
      "execution_count": null,
      "outputs": [
        {
          "output_type": "execute_result",
          "data": {
            "text/html": [
              "\n",
              "  <div id=\"df-f9ebcf75-eec7-453e-9292-3949a73cd827\">\n",
              "    <div class=\"colab-df-container\">\n",
              "      <div>\n",
              "<style scoped>\n",
              "    .dataframe tbody tr th:only-of-type {\n",
              "        vertical-align: middle;\n",
              "    }\n",
              "\n",
              "    .dataframe tbody tr th {\n",
              "        vertical-align: top;\n",
              "    }\n",
              "\n",
              "    .dataframe thead th {\n",
              "        text-align: right;\n",
              "    }\n",
              "</style>\n",
              "<table border=\"1\" class=\"dataframe\">\n",
              "  <thead>\n",
              "    <tr style=\"text-align: right;\">\n",
              "      <th></th>\n",
              "      <th>customer_id</th>\n",
              "      <th>vintage</th>\n",
              "      <th>age</th>\n",
              "      <th>gender</th>\n",
              "      <th>dependents</th>\n",
              "      <th>occupation</th>\n",
              "      <th>city</th>\n",
              "      <th>customer_nw_category</th>\n",
              "      <th>branch_code</th>\n",
              "      <th>days_since_last_transaction</th>\n",
              "      <th>current_balance</th>\n",
              "      <th>previous_month_end_balance</th>\n",
              "      <th>average_monthly_balance_prevQ</th>\n",
              "      <th>average_monthly_balance_prevQ2</th>\n",
              "      <th>current_month_credit</th>\n",
              "      <th>previous_month_credit</th>\n",
              "      <th>current_month_debit</th>\n",
              "      <th>previous_month_debit</th>\n",
              "      <th>current_month_balance</th>\n",
              "      <th>previous_month_balance</th>\n",
              "      <th>churn</th>\n",
              "    </tr>\n",
              "  </thead>\n",
              "  <tbody>\n",
              "    <tr>\n",
              "      <th>0</th>\n",
              "      <td>1</td>\n",
              "      <td>3135</td>\n",
              "      <td>66</td>\n",
              "      <td>0</td>\n",
              "      <td>0.0</td>\n",
              "      <td>0</td>\n",
              "      <td>187.0</td>\n",
              "      <td>2</td>\n",
              "      <td>755</td>\n",
              "      <td>224.0</td>\n",
              "      <td>1458.71</td>\n",
              "      <td>1458.71</td>\n",
              "      <td>1458.71</td>\n",
              "      <td>1449.07</td>\n",
              "      <td>0.20</td>\n",
              "      <td>0.20</td>\n",
              "      <td>0.20</td>\n",
              "      <td>0.20</td>\n",
              "      <td>1458.71</td>\n",
              "      <td>1458.71</td>\n",
              "      <td>0</td>\n",
              "    </tr>\n",
              "    <tr>\n",
              "      <th>1</th>\n",
              "      <td>6</td>\n",
              "      <td>2531</td>\n",
              "      <td>42</td>\n",
              "      <td>0</td>\n",
              "      <td>2.0</td>\n",
              "      <td>0</td>\n",
              "      <td>1494.0</td>\n",
              "      <td>3</td>\n",
              "      <td>388</td>\n",
              "      <td>58.0</td>\n",
              "      <td>927.72</td>\n",
              "      <td>1401.72</td>\n",
              "      <td>1643.31</td>\n",
              "      <td>1871.12</td>\n",
              "      <td>0.33</td>\n",
              "      <td>714.61</td>\n",
              "      <td>588.62</td>\n",
              "      <td>1538.06</td>\n",
              "      <td>1157.15</td>\n",
              "      <td>1677.16</td>\n",
              "      <td>1</td>\n",
              "    </tr>\n",
              "    <tr>\n",
              "      <th>2</th>\n",
              "      <td>7</td>\n",
              "      <td>263</td>\n",
              "      <td>42</td>\n",
              "      <td>1</td>\n",
              "      <td>0.0</td>\n",
              "      <td>0</td>\n",
              "      <td>1096.0</td>\n",
              "      <td>2</td>\n",
              "      <td>1666</td>\n",
              "      <td>60.0</td>\n",
              "      <td>15202.20</td>\n",
              "      <td>16059.34</td>\n",
              "      <td>15211.29</td>\n",
              "      <td>13798.82</td>\n",
              "      <td>0.36</td>\n",
              "      <td>0.36</td>\n",
              "      <td>857.50</td>\n",
              "      <td>286.07</td>\n",
              "      <td>15719.44</td>\n",
              "      <td>15349.75</td>\n",
              "      <td>0</td>\n",
              "    </tr>\n",
              "    <tr>\n",
              "      <th>3</th>\n",
              "      <td>8</td>\n",
              "      <td>5922</td>\n",
              "      <td>72</td>\n",
              "      <td>0</td>\n",
              "      <td>0.0</td>\n",
              "      <td>1</td>\n",
              "      <td>1020.0</td>\n",
              "      <td>1</td>\n",
              "      <td>1</td>\n",
              "      <td>98.0</td>\n",
              "      <td>7006.93</td>\n",
              "      <td>7714.19</td>\n",
              "      <td>7859.74</td>\n",
              "      <td>11232.37</td>\n",
              "      <td>0.64</td>\n",
              "      <td>0.64</td>\n",
              "      <td>1299.64</td>\n",
              "      <td>439.26</td>\n",
              "      <td>7076.06</td>\n",
              "      <td>7755.98</td>\n",
              "      <td>0</td>\n",
              "    </tr>\n",
              "    <tr>\n",
              "      <th>4</th>\n",
              "      <td>9</td>\n",
              "      <td>1145</td>\n",
              "      <td>46</td>\n",
              "      <td>0</td>\n",
              "      <td>0.0</td>\n",
              "      <td>0</td>\n",
              "      <td>623.0</td>\n",
              "      <td>2</td>\n",
              "      <td>317</td>\n",
              "      <td>172.0</td>\n",
              "      <td>10096.58</td>\n",
              "      <td>8519.53</td>\n",
              "      <td>6511.82</td>\n",
              "      <td>16314.17</td>\n",
              "      <td>0.27</td>\n",
              "      <td>0.27</td>\n",
              "      <td>443.13</td>\n",
              "      <td>5688.44</td>\n",
              "      <td>8563.84</td>\n",
              "      <td>5317.04</td>\n",
              "      <td>0</td>\n",
              "    </tr>\n",
              "  </tbody>\n",
              "</table>\n",
              "</div>\n",
              "      <button class=\"colab-df-convert\" onclick=\"convertToInteractive('df-f9ebcf75-eec7-453e-9292-3949a73cd827')\"\n",
              "              title=\"Convert this dataframe to an interactive table.\"\n",
              "              style=\"display:none;\">\n",
              "        \n",
              "  <svg xmlns=\"http://www.w3.org/2000/svg\" height=\"24px\"viewBox=\"0 0 24 24\"\n",
              "       width=\"24px\">\n",
              "    <path d=\"M0 0h24v24H0V0z\" fill=\"none\"/>\n",
              "    <path d=\"M18.56 5.44l.94 2.06.94-2.06 2.06-.94-2.06-.94-.94-2.06-.94 2.06-2.06.94zm-11 1L8.5 8.5l.94-2.06 2.06-.94-2.06-.94L8.5 2.5l-.94 2.06-2.06.94zm10 10l.94 2.06.94-2.06 2.06-.94-2.06-.94-.94-2.06-.94 2.06-2.06.94z\"/><path d=\"M17.41 7.96l-1.37-1.37c-.4-.4-.92-.59-1.43-.59-.52 0-1.04.2-1.43.59L10.3 9.45l-7.72 7.72c-.78.78-.78 2.05 0 2.83L4 21.41c.39.39.9.59 1.41.59.51 0 1.02-.2 1.41-.59l7.78-7.78 2.81-2.81c.8-.78.8-2.07 0-2.86zM5.41 20L4 18.59l7.72-7.72 1.47 1.35L5.41 20z\"/>\n",
              "  </svg>\n",
              "      </button>\n",
              "      \n",
              "  <style>\n",
              "    .colab-df-container {\n",
              "      display:flex;\n",
              "      flex-wrap:wrap;\n",
              "      gap: 12px;\n",
              "    }\n",
              "\n",
              "    .colab-df-convert {\n",
              "      background-color: #E8F0FE;\n",
              "      border: none;\n",
              "      border-radius: 50%;\n",
              "      cursor: pointer;\n",
              "      display: none;\n",
              "      fill: #1967D2;\n",
              "      height: 32px;\n",
              "      padding: 0 0 0 0;\n",
              "      width: 32px;\n",
              "    }\n",
              "\n",
              "    .colab-df-convert:hover {\n",
              "      background-color: #E2EBFA;\n",
              "      box-shadow: 0px 1px 2px rgba(60, 64, 67, 0.3), 0px 1px 3px 1px rgba(60, 64, 67, 0.15);\n",
              "      fill: #174EA6;\n",
              "    }\n",
              "\n",
              "    [theme=dark] .colab-df-convert {\n",
              "      background-color: #3B4455;\n",
              "      fill: #D2E3FC;\n",
              "    }\n",
              "\n",
              "    [theme=dark] .colab-df-convert:hover {\n",
              "      background-color: #434B5C;\n",
              "      box-shadow: 0px 1px 3px 1px rgba(0, 0, 0, 0.15);\n",
              "      filter: drop-shadow(0px 1px 2px rgba(0, 0, 0, 0.3));\n",
              "      fill: #FFFFFF;\n",
              "    }\n",
              "  </style>\n",
              "\n",
              "      <script>\n",
              "        const buttonEl =\n",
              "          document.querySelector('#df-f9ebcf75-eec7-453e-9292-3949a73cd827 button.colab-df-convert');\n",
              "        buttonEl.style.display =\n",
              "          google.colab.kernel.accessAllowed ? 'block' : 'none';\n",
              "\n",
              "        async function convertToInteractive(key) {\n",
              "          const element = document.querySelector('#df-f9ebcf75-eec7-453e-9292-3949a73cd827');\n",
              "          const dataTable =\n",
              "            await google.colab.kernel.invokeFunction('convertToInteractive',\n",
              "                                                     [key], {});\n",
              "          if (!dataTable) return;\n",
              "\n",
              "          const docLinkHtml = 'Like what you see? Visit the ' +\n",
              "            '<a target=\"_blank\" href=https://colab.research.google.com/notebooks/data_table.ipynb>data table notebook</a>'\n",
              "            + ' to learn more about interactive tables.';\n",
              "          element.innerHTML = '';\n",
              "          dataTable['output_type'] = 'display_data';\n",
              "          await google.colab.output.renderOutput(dataTable, element);\n",
              "          const docLink = document.createElement('div');\n",
              "          docLink.innerHTML = docLinkHtml;\n",
              "          element.appendChild(docLink);\n",
              "        }\n",
              "      </script>\n",
              "    </div>\n",
              "  </div>\n",
              "  "
            ],
            "text/plain": [
              "   customer_id  vintage  ...  previous_month_balance  churn\n",
              "0            1     3135  ...                 1458.71      0\n",
              "1            6     2531  ...                 1677.16      1\n",
              "2            7      263  ...                15349.75      0\n",
              "3            8     5922  ...                 7755.98      0\n",
              "4            9     1145  ...                 5317.04      0\n",
              "\n",
              "[5 rows x 21 columns]"
            ]
          },
          "metadata": {},
          "execution_count": 7
        }
      ]
    },
    {
      "cell_type": "code",
      "source": [
        "data.describe()"
      ],
      "metadata": {
        "colab": {
          "base_uri": "https://localhost:8080/",
          "height": 364
        },
        "id": "ViP1ubQoSuFo",
        "outputId": "f16e8045-004e-4913-bb7c-d9a4aba8697c"
      },
      "execution_count": null,
      "outputs": [
        {
          "output_type": "execute_result",
          "data": {
            "text/html": [
              "\n",
              "  <div id=\"df-fe9da82c-c488-402e-99d0-0e5eb7d8f653\">\n",
              "    <div class=\"colab-df-container\">\n",
              "      <div>\n",
              "<style scoped>\n",
              "    .dataframe tbody tr th:only-of-type {\n",
              "        vertical-align: middle;\n",
              "    }\n",
              "\n",
              "    .dataframe tbody tr th {\n",
              "        vertical-align: top;\n",
              "    }\n",
              "\n",
              "    .dataframe thead th {\n",
              "        text-align: right;\n",
              "    }\n",
              "</style>\n",
              "<table border=\"1\" class=\"dataframe\">\n",
              "  <thead>\n",
              "    <tr style=\"text-align: right;\">\n",
              "      <th></th>\n",
              "      <th>customer_id</th>\n",
              "      <th>vintage</th>\n",
              "      <th>age</th>\n",
              "      <th>gender</th>\n",
              "      <th>dependents</th>\n",
              "      <th>occupation</th>\n",
              "      <th>city</th>\n",
              "      <th>customer_nw_category</th>\n",
              "      <th>branch_code</th>\n",
              "      <th>days_since_last_transaction</th>\n",
              "      <th>current_balance</th>\n",
              "      <th>previous_month_end_balance</th>\n",
              "      <th>average_monthly_balance_prevQ</th>\n",
              "      <th>average_monthly_balance_prevQ2</th>\n",
              "      <th>current_month_credit</th>\n",
              "      <th>previous_month_credit</th>\n",
              "      <th>current_month_debit</th>\n",
              "      <th>previous_month_debit</th>\n",
              "      <th>current_month_balance</th>\n",
              "      <th>previous_month_balance</th>\n",
              "      <th>churn</th>\n",
              "    </tr>\n",
              "  </thead>\n",
              "  <tbody>\n",
              "    <tr>\n",
              "      <th>count</th>\n",
              "      <td>22067.000000</td>\n",
              "      <td>22067.000000</td>\n",
              "      <td>22067.000000</td>\n",
              "      <td>22067.000000</td>\n",
              "      <td>22067.000000</td>\n",
              "      <td>22067.000000</td>\n",
              "      <td>22067.000000</td>\n",
              "      <td>22067.000000</td>\n",
              "      <td>22067.000000</td>\n",
              "      <td>22067.000000</td>\n",
              "      <td>2.206700e+04</td>\n",
              "      <td>2.206700e+04</td>\n",
              "      <td>2.206700e+04</td>\n",
              "      <td>22067.000000</td>\n",
              "      <td>2.206700e+04</td>\n",
              "      <td>2.206700e+04</td>\n",
              "      <td>2.206700e+04</td>\n",
              "      <td>2.206700e+04</td>\n",
              "      <td>2.206700e+04</td>\n",
              "      <td>2.206700e+04</td>\n",
              "      <td>22067.000000</td>\n",
              "    </tr>\n",
              "    <tr>\n",
              "      <th>mean</th>\n",
              "      <td>15115.161372</td>\n",
              "      <td>2547.069334</td>\n",
              "      <td>47.931345</td>\n",
              "      <td>0.391807</td>\n",
              "      <td>0.377487</td>\n",
              "      <td>0.772420</td>\n",
              "      <td>800.318575</td>\n",
              "      <td>2.211991</td>\n",
              "      <td>874.440975</td>\n",
              "      <td>66.934790</td>\n",
              "      <td>7.132589e+03</td>\n",
              "      <td>7.222013e+03</td>\n",
              "      <td>7.181977e+03</td>\n",
              "      <td>6694.966494</td>\n",
              "      <td>3.943065e+03</td>\n",
              "      <td>3.781366e+03</td>\n",
              "      <td>4.070565e+03</td>\n",
              "      <td>3.720333e+03</td>\n",
              "      <td>7.165418e+03</td>\n",
              "      <td>7.182148e+03</td>\n",
              "      <td>0.193683</td>\n",
              "    </tr>\n",
              "    <tr>\n",
              "      <th>std</th>\n",
              "      <td>8737.384035</td>\n",
              "      <td>1598.675520</td>\n",
              "      <td>16.393352</td>\n",
              "      <td>0.488165</td>\n",
              "      <td>1.044629</td>\n",
              "      <td>1.033849</td>\n",
              "      <td>431.454448</td>\n",
              "      <td>0.669556</td>\n",
              "      <td>904.244526</td>\n",
              "      <td>84.133427</td>\n",
              "      <td>2.026846e+04</td>\n",
              "      <td>2.105071e+04</td>\n",
              "      <td>1.927121e+04</td>\n",
              "      <td>17101.802052</td>\n",
              "      <td>8.661750e+04</td>\n",
              "      <td>3.254151e+04</td>\n",
              "      <td>5.726446e+04</td>\n",
              "      <td>2.517514e+04</td>\n",
              "      <td>1.959007e+04</td>\n",
              "      <td>2.097682e+04</td>\n",
              "      <td>0.395192</td>\n",
              "    </tr>\n",
              "    <tr>\n",
              "      <th>min</th>\n",
              "      <td>1.000000</td>\n",
              "      <td>180.000000</td>\n",
              "      <td>1.000000</td>\n",
              "      <td>0.000000</td>\n",
              "      <td>0.000000</td>\n",
              "      <td>0.000000</td>\n",
              "      <td>0.000000</td>\n",
              "      <td>1.000000</td>\n",
              "      <td>1.000000</td>\n",
              "      <td>0.000000</td>\n",
              "      <td>-5.503960e+03</td>\n",
              "      <td>-3.145380e+03</td>\n",
              "      <td>1.428690e+03</td>\n",
              "      <td>-16506.100000</td>\n",
              "      <td>1.000000e-02</td>\n",
              "      <td>1.000000e-02</td>\n",
              "      <td>1.000000e-02</td>\n",
              "      <td>1.000000e-02</td>\n",
              "      <td>-3.374180e+03</td>\n",
              "      <td>-5.171920e+03</td>\n",
              "      <td>0.000000</td>\n",
              "    </tr>\n",
              "    <tr>\n",
              "      <th>25%</th>\n",
              "      <td>7522.500000</td>\n",
              "      <td>1321.000000</td>\n",
              "      <td>36.000000</td>\n",
              "      <td>0.000000</td>\n",
              "      <td>0.000000</td>\n",
              "      <td>0.000000</td>\n",
              "      <td>409.000000</td>\n",
              "      <td>2.000000</td>\n",
              "      <td>159.000000</td>\n",
              "      <td>11.000000</td>\n",
              "      <td>1.784445e+03</td>\n",
              "      <td>1.906485e+03</td>\n",
              "      <td>2.209835e+03</td>\n",
              "      <td>1817.980000</td>\n",
              "      <td>3.600000e-01</td>\n",
              "      <td>3.700000e-01</td>\n",
              "      <td>4.700000e-01</td>\n",
              "      <td>4.900000e-01</td>\n",
              "      <td>2.029970e+03</td>\n",
              "      <td>2.090665e+03</td>\n",
              "      <td>0.000000</td>\n",
              "    </tr>\n",
              "    <tr>\n",
              "      <th>50%</th>\n",
              "      <td>15120.000000</td>\n",
              "      <td>2202.000000</td>\n",
              "      <td>46.000000</td>\n",
              "      <td>0.000000</td>\n",
              "      <td>0.000000</td>\n",
              "      <td>0.000000</td>\n",
              "      <td>848.000000</td>\n",
              "      <td>2.000000</td>\n",
              "      <td>531.000000</td>\n",
              "      <td>28.000000</td>\n",
              "      <td>3.335440e+03</td>\n",
              "      <td>3.426740e+03</td>\n",
              "      <td>3.592880e+03</td>\n",
              "      <td>3380.690000</td>\n",
              "      <td>1.130000e+00</td>\n",
              "      <td>6.440000e+00</td>\n",
              "      <td>2.147300e+02</td>\n",
              "      <td>2.285000e+02</td>\n",
              "      <td>3.501740e+03</td>\n",
              "      <td>3.508160e+03</td>\n",
              "      <td>0.000000</td>\n",
              "    </tr>\n",
              "    <tr>\n",
              "      <th>75%</th>\n",
              "      <td>22685.500000</td>\n",
              "      <td>3370.000000</td>\n",
              "      <td>60.000000</td>\n",
              "      <td>1.000000</td>\n",
              "      <td>0.000000</td>\n",
              "      <td>2.000000</td>\n",
              "      <td>1096.000000</td>\n",
              "      <td>3.000000</td>\n",
              "      <td>1374.000000</td>\n",
              "      <td>90.000000</td>\n",
              "      <td>6.801310e+03</td>\n",
              "      <td>6.826095e+03</td>\n",
              "      <td>6.819235e+03</td>\n",
              "      <td>6628.750000</td>\n",
              "      <td>9.937800e+02</td>\n",
              "      <td>1.129115e+03</td>\n",
              "      <td>1.579220e+03</td>\n",
              "      <td>1.643175e+03</td>\n",
              "      <td>6.858385e+03</td>\n",
              "      <td>6.779355e+03</td>\n",
              "      <td>0.000000</td>\n",
              "    </tr>\n",
              "    <tr>\n",
              "      <th>max</th>\n",
              "      <td>30301.000000</td>\n",
              "      <td>11353.000000</td>\n",
              "      <td>90.000000</td>\n",
              "      <td>1.000000</td>\n",
              "      <td>52.000000</td>\n",
              "      <td>4.000000</td>\n",
              "      <td>1649.000000</td>\n",
              "      <td>3.000000</td>\n",
              "      <td>4782.000000</td>\n",
              "      <td>365.000000</td>\n",
              "      <td>1.076091e+06</td>\n",
              "      <td>1.001124e+06</td>\n",
              "      <td>1.192704e+06</td>\n",
              "      <td>856596.510000</td>\n",
              "      <td>1.226985e+07</td>\n",
              "      <td>2.361808e+06</td>\n",
              "      <td>7.637857e+06</td>\n",
              "      <td>1.414168e+06</td>\n",
              "      <td>1.074625e+06</td>\n",
              "      <td>1.326487e+06</td>\n",
              "      <td>1.000000</td>\n",
              "    </tr>\n",
              "  </tbody>\n",
              "</table>\n",
              "</div>\n",
              "      <button class=\"colab-df-convert\" onclick=\"convertToInteractive('df-fe9da82c-c488-402e-99d0-0e5eb7d8f653')\"\n",
              "              title=\"Convert this dataframe to an interactive table.\"\n",
              "              style=\"display:none;\">\n",
              "        \n",
              "  <svg xmlns=\"http://www.w3.org/2000/svg\" height=\"24px\"viewBox=\"0 0 24 24\"\n",
              "       width=\"24px\">\n",
              "    <path d=\"M0 0h24v24H0V0z\" fill=\"none\"/>\n",
              "    <path d=\"M18.56 5.44l.94 2.06.94-2.06 2.06-.94-2.06-.94-.94-2.06-.94 2.06-2.06.94zm-11 1L8.5 8.5l.94-2.06 2.06-.94-2.06-.94L8.5 2.5l-.94 2.06-2.06.94zm10 10l.94 2.06.94-2.06 2.06-.94-2.06-.94-.94-2.06-.94 2.06-2.06.94z\"/><path d=\"M17.41 7.96l-1.37-1.37c-.4-.4-.92-.59-1.43-.59-.52 0-1.04.2-1.43.59L10.3 9.45l-7.72 7.72c-.78.78-.78 2.05 0 2.83L4 21.41c.39.39.9.59 1.41.59.51 0 1.02-.2 1.41-.59l7.78-7.78 2.81-2.81c.8-.78.8-2.07 0-2.86zM5.41 20L4 18.59l7.72-7.72 1.47 1.35L5.41 20z\"/>\n",
              "  </svg>\n",
              "      </button>\n",
              "      \n",
              "  <style>\n",
              "    .colab-df-container {\n",
              "      display:flex;\n",
              "      flex-wrap:wrap;\n",
              "      gap: 12px;\n",
              "    }\n",
              "\n",
              "    .colab-df-convert {\n",
              "      background-color: #E8F0FE;\n",
              "      border: none;\n",
              "      border-radius: 50%;\n",
              "      cursor: pointer;\n",
              "      display: none;\n",
              "      fill: #1967D2;\n",
              "      height: 32px;\n",
              "      padding: 0 0 0 0;\n",
              "      width: 32px;\n",
              "    }\n",
              "\n",
              "    .colab-df-convert:hover {\n",
              "      background-color: #E2EBFA;\n",
              "      box-shadow: 0px 1px 2px rgba(60, 64, 67, 0.3), 0px 1px 3px 1px rgba(60, 64, 67, 0.15);\n",
              "      fill: #174EA6;\n",
              "    }\n",
              "\n",
              "    [theme=dark] .colab-df-convert {\n",
              "      background-color: #3B4455;\n",
              "      fill: #D2E3FC;\n",
              "    }\n",
              "\n",
              "    [theme=dark] .colab-df-convert:hover {\n",
              "      background-color: #434B5C;\n",
              "      box-shadow: 0px 1px 3px 1px rgba(0, 0, 0, 0.15);\n",
              "      filter: drop-shadow(0px 1px 2px rgba(0, 0, 0, 0.3));\n",
              "      fill: #FFFFFF;\n",
              "    }\n",
              "  </style>\n",
              "\n",
              "      <script>\n",
              "        const buttonEl =\n",
              "          document.querySelector('#df-fe9da82c-c488-402e-99d0-0e5eb7d8f653 button.colab-df-convert');\n",
              "        buttonEl.style.display =\n",
              "          google.colab.kernel.accessAllowed ? 'block' : 'none';\n",
              "\n",
              "        async function convertToInteractive(key) {\n",
              "          const element = document.querySelector('#df-fe9da82c-c488-402e-99d0-0e5eb7d8f653');\n",
              "          const dataTable =\n",
              "            await google.colab.kernel.invokeFunction('convertToInteractive',\n",
              "                                                     [key], {});\n",
              "          if (!dataTable) return;\n",
              "\n",
              "          const docLinkHtml = 'Like what you see? Visit the ' +\n",
              "            '<a target=\"_blank\" href=https://colab.research.google.com/notebooks/data_table.ipynb>data table notebook</a>'\n",
              "            + ' to learn more about interactive tables.';\n",
              "          element.innerHTML = '';\n",
              "          dataTable['output_type'] = 'display_data';\n",
              "          await google.colab.output.renderOutput(dataTable, element);\n",
              "          const docLink = document.createElement('div');\n",
              "          docLink.innerHTML = docLinkHtml;\n",
              "          element.appendChild(docLink);\n",
              "        }\n",
              "      </script>\n",
              "    </div>\n",
              "  </div>\n",
              "  "
            ],
            "text/plain": [
              "        customer_id       vintage  ...  previous_month_balance         churn\n",
              "count  22067.000000  22067.000000  ...            2.206700e+04  22067.000000\n",
              "mean   15115.161372   2547.069334  ...            7.182148e+03      0.193683\n",
              "std     8737.384035   1598.675520  ...            2.097682e+04      0.395192\n",
              "min        1.000000    180.000000  ...           -5.171920e+03      0.000000\n",
              "25%     7522.500000   1321.000000  ...            2.090665e+03      0.000000\n",
              "50%    15120.000000   2202.000000  ...            3.508160e+03      0.000000\n",
              "75%    22685.500000   3370.000000  ...            6.779355e+03      0.000000\n",
              "max    30301.000000  11353.000000  ...            1.326487e+06      1.000000\n",
              "\n",
              "[8 rows x 21 columns]"
            ]
          },
          "metadata": {},
          "execution_count": 8
        }
      ]
    },
    {
      "cell_type": "code",
      "source": [
        "data.info()"
      ],
      "metadata": {
        "colab": {
          "base_uri": "https://localhost:8080/"
        },
        "id": "Qr7D_wSFSxkI",
        "outputId": "d6046e41-2186-48e3-e0f6-7d2e401a999a"
      },
      "execution_count": null,
      "outputs": [
        {
          "output_type": "stream",
          "name": "stdout",
          "text": [
            "<class 'pandas.core.frame.DataFrame'>\n",
            "RangeIndex: 22067 entries, 0 to 22066\n",
            "Data columns (total 21 columns):\n",
            " #   Column                          Non-Null Count  Dtype  \n",
            "---  ------                          --------------  -----  \n",
            " 0   customer_id                     22067 non-null  int64  \n",
            " 1   vintage                         22067 non-null  int64  \n",
            " 2   age                             22067 non-null  int64  \n",
            " 3   gender                          22067 non-null  int64  \n",
            " 4   dependents                      22067 non-null  float64\n",
            " 5   occupation                      22067 non-null  int64  \n",
            " 6   city                            22067 non-null  float64\n",
            " 7   customer_nw_category            22067 non-null  int64  \n",
            " 8   branch_code                     22067 non-null  int64  \n",
            " 9   days_since_last_transaction     22067 non-null  float64\n",
            " 10  current_balance                 22067 non-null  float64\n",
            " 11  previous_month_end_balance      22067 non-null  float64\n",
            " 12  average_monthly_balance_prevQ   22067 non-null  float64\n",
            " 13  average_monthly_balance_prevQ2  22067 non-null  float64\n",
            " 14  current_month_credit            22067 non-null  float64\n",
            " 15  previous_month_credit           22067 non-null  float64\n",
            " 16  current_month_debit             22067 non-null  float64\n",
            " 17  previous_month_debit            22067 non-null  float64\n",
            " 18  current_month_balance           22067 non-null  float64\n",
            " 19  previous_month_balance          22067 non-null  float64\n",
            " 20  churn                           22067 non-null  int64  \n",
            "dtypes: float64(13), int64(8)\n",
            "memory usage: 3.5 MB\n"
          ]
        }
      ]
    },
    {
      "cell_type": "markdown",
      "source": [
        "Step:1 basic preprocessing of the data"
      ],
      "metadata": {
        "id": "uC2W8snUTCIF"
      }
    },
    {
      "cell_type": "code",
      "source": [
        "#separating dependent and independent varibales\n",
        "\n",
        "X = data.drop(columns = ['churn','customer_id'])\n",
        "Y = data['churn']"
      ],
      "metadata": {
        "id": "SXYfj3D8Syzo"
      },
      "execution_count": null,
      "outputs": []
    },
    {
      "cell_type": "code",
      "source": [
        "#Scaling the dataset\n",
        "from sklearn.preprocessing import StandardScaler\n",
        "scaler = StandardScaler()\n",
        "scaled_X = scaler.fit_transform(X)"
      ],
      "metadata": {
        "id": "VblKSQKhTkDt"
      },
      "execution_count": null,
      "outputs": []
    },
    {
      "cell_type": "code",
      "source": [
        "#splitting the dataset\n",
        "from sklearn.model_selection import train_test_split as tts\n",
        "x_train, x_test, y_train, y_test = tts(scaled_X, Y, train_size = 0.80, stratify = Y)\n",
        "x_train.shape, x_test.shape, y_train.shape, y_test.shape"
      ],
      "metadata": {
        "colab": {
          "base_uri": "https://localhost:8080/"
        },
        "id": "wTzxyhGVS9H5",
        "outputId": "ecddf9ab-d6b3-4d96-ffdc-c50932f2781f"
      },
      "execution_count": null,
      "outputs": [
        {
          "output_type": "execute_result",
          "data": {
            "text/plain": [
              "((17653, 19), (4414, 19), (17653,), (4414,))"
            ]
          },
          "metadata": {},
          "execution_count": 13
        }
      ]
    },
    {
      "cell_type": "markdown",
      "source": [
        "## Model Building, predictions\n"
      ],
      "metadata": {
        "id": "3ht8LhcSTs_2"
      }
    },
    {
      "cell_type": "code",
      "source": [
        "y_train"
      ],
      "metadata": {
        "colab": {
          "base_uri": "https://localhost:8080/"
        },
        "id": "maMETpSVSy7b",
        "outputId": "88e85384-22ad-4d46-96bf-681c3dc4c628"
      },
      "execution_count": null,
      "outputs": [
        {
          "output_type": "execute_result",
          "data": {
            "text/plain": [
              "6576     0\n",
              "9524     0\n",
              "16455    1\n",
              "1903     1\n",
              "5490     0\n",
              "        ..\n",
              "11930    0\n",
              "13794    1\n",
              "13647    0\n",
              "2042     0\n",
              "4242     0\n",
              "Name: churn, Length: 17653, dtype: int64"
            ]
          },
          "metadata": {},
          "execution_count": 14
        }
      ]
    },
    {
      "cell_type": "markdown",
      "source": [
        "Step:2 import the decision tree algorithm from sklearn library"
      ],
      "metadata": {
        "id": "I_uv-xdtT0rY"
      }
    },
    {
      "cell_type": "code",
      "source": [
        "from sklearn.tree import DecisionTreeClassifier as DTC\n",
        "classifier = DTC( class_weight = 'balanced')\n",
        "classifier = DTC()"
      ],
      "metadata": {
        "id": "qJb0fTpJSzCV"
      },
      "execution_count": null,
      "outputs": []
    },
    {
      "cell_type": "code",
      "source": [
        "classifier.fit(x_train, y_train)\n",
        "predicted_values = classifier.predict(x_train)"
      ],
      "metadata": {
        "id": "XIf3xyvYSzIx"
      },
      "execution_count": null,
      "outputs": []
    },
    {
      "cell_type": "code",
      "source": [
        "predicted_values[:30]"
      ],
      "metadata": {
        "colab": {
          "base_uri": "https://localhost:8080/"
        },
        "id": "QlQpmqLxSzPw",
        "outputId": "d2942828-40cf-4b11-b509-015c0e6a80c9"
      },
      "execution_count": null,
      "outputs": [
        {
          "output_type": "execute_result",
          "data": {
            "text/plain": [
              "array([0, 0, 1, 1, 0, 0, 0, 0, 0, 0, 0, 0, 0, 1, 0, 1, 0, 0, 0, 0, 0, 1,\n",
              "       0, 0, 1, 0, 1, 0, 0, 0])"
            ]
          },
          "metadata": {},
          "execution_count": 17
        }
      ]
    },
    {
      "cell_type": "markdown",
      "source": [
        "step:3 finding the decision tree model \n"
      ],
      "metadata": {
        "id": "iT2jPJISUIfm"
      }
    },
    {
      "cell_type": "code",
      "source": [
        "##Evaluation Metrics\n",
        "\n",
        "from sklearn.metrics import classification_report\n",
        "print(classification_report(y_train, predicted_values))"
      ],
      "metadata": {
        "colab": {
          "base_uri": "https://localhost:8080/"
        },
        "id": "7C0r3-2pUQx6",
        "outputId": "dbfbbe3c-2350-4696-d3bb-326955783698"
      },
      "execution_count": null,
      "outputs": [
        {
          "output_type": "stream",
          "name": "stdout",
          "text": [
            "              precision    recall  f1-score   support\n",
            "\n",
            "           0       1.00      1.00      1.00     14234\n",
            "           1       1.00      1.00      1.00      3419\n",
            "\n",
            "    accuracy                           1.00     17653\n",
            "   macro avg       1.00      1.00      1.00     17653\n",
            "weighted avg       1.00      1.00      1.00     17653\n",
            "\n"
          ]
        }
      ]
    },
    {
      "cell_type": "code",
      "source": [
        "predicted_values = classifier.predict(x_test)\n",
        "print(classification_report(y_test, predicted_values))"
      ],
      "metadata": {
        "colab": {
          "base_uri": "https://localhost:8080/"
        },
        "id": "yNtrcJsXUfIE",
        "outputId": "996a47ba-ee2d-4868-d034-d4bae9f0cfda"
      },
      "execution_count": null,
      "outputs": [
        {
          "output_type": "stream",
          "name": "stdout",
          "text": [
            "              precision    recall  f1-score   support\n",
            "\n",
            "           0       0.87      0.85      0.86      3559\n",
            "           1       0.43      0.47      0.45       855\n",
            "\n",
            "    accuracy                           0.78      4414\n",
            "   macro avg       0.65      0.66      0.66      4414\n",
            "weighted avg       0.79      0.78      0.78      4414\n",
            "\n"
          ]
        }
      ]
    },
    {
      "cell_type": "markdown",
      "source": [
        "# Visualising Decision Tree"
      ],
      "metadata": {
        "id": "8XSOC1IlUlWb"
      }
    },
    {
      "cell_type": "code",
      "source": [
        "!pip install graphviz"
      ],
      "metadata": {
        "colab": {
          "base_uri": "https://localhost:8080/"
        },
        "id": "8cwd8aOzSzVG",
        "outputId": "21b6c577-244d-4176-86bd-758ce53e09ee"
      },
      "execution_count": null,
      "outputs": [
        {
          "output_type": "stream",
          "name": "stdout",
          "text": [
            "Requirement already satisfied: graphviz in /usr/local/lib/python3.7/dist-packages (0.10.1)\n"
          ]
        }
      ]
    },
    {
      "cell_type": "code",
      "source": [
        "from sklearn.tree import export_graphviz\n",
        "export_graphviz(decision_tree = classifier, out_file = 'tree_viz',\n",
        "                max_depth=None, feature_names = X.columns ,\n",
        "                label = None, impurity = False )"
      ],
      "metadata": {
        "id": "azRi2cxXUm_x"
      },
      "execution_count": null,
      "outputs": []
    },
    {
      "cell_type": "code",
      "source": [
        "from graphviz import render\n",
        "render(  filepath='tree_viz', format = 'png', engine = 'neato')"
      ],
      "metadata": {
        "colab": {
          "base_uri": "https://localhost:8080/",
          "height": 34
        },
        "id": "XiFyRZw0VRlf",
        "outputId": "e2e0db49-c0bc-429a-c984-5168cbe47847"
      },
      "execution_count": null,
      "outputs": [
        {
          "output_type": "execute_result",
          "data": {
            "application/vnd.google.colaboratory.intrinsic+json": {
              "type": "string"
            },
            "text/plain": [
              "'tree_viz.png'"
            ]
          },
          "metadata": {},
          "execution_count": 22
        }
      ]
    },
    {
      "cell_type": "markdown",
      "source": [
        "# Hyperparamter Tuning\n",
        "\n",
        "~Preventng a decision tree from overfitting by tunning its characteristic.#pruning"
      ],
      "metadata": {
        "id": "Y6h_5HmUVdeO"
      }
    },
    {
      "cell_type": "code",
      "source": [
        "classifier = DTC()\n",
        "classifier.fit(x_train, y_train)"
      ],
      "metadata": {
        "colab": {
          "base_uri": "https://localhost:8080/"
        },
        "id": "aYZCJw9MVcZr",
        "outputId": "bdcc472d-57da-406b-977a-067752aede45"
      },
      "execution_count": null,
      "outputs": [
        {
          "output_type": "execute_result",
          "data": {
            "text/plain": [
              "DecisionTreeClassifier()"
            ]
          },
          "metadata": {},
          "execution_count": 23
        }
      ]
    },
    {
      "cell_type": "markdown",
      "source": [
        "## max_depth\n",
        "\n",
        "```\n",
        "we calculate calc_score and\n",
        "effect()\n",
        "```\n",
        "\n"
      ],
      "metadata": {
        "id": "_jFId15-WJn1"
      }
    },
    {
      "cell_type": "code",
      "source": [
        "from sklearn.metrics import f1_score\n",
        "def calc_score(model, x1, y1, x2, y2):\n",
        "\n",
        "  model.fit(x1,y1)\n",
        "\n",
        "  predict = model.predict(x1)\n",
        "  f1 = f1_score(y1, predict)\n",
        "\n",
        "  predict = model.predict(x2)\n",
        "  f2 = f1_score(y2, predict)\n",
        "\n",
        "  return f1, f2"
      ],
      "metadata": {
        "id": "lmznkjTVWIth"
      },
      "execution_count": null,
      "outputs": []
    },
    {
      "cell_type": "code",
      "source": [
        "def effect(train_score, test_score, x_axis, title):\n",
        "  plt.figure(figsize = (5,5), dpi = 120)\n",
        "  plt.plot(x_axis, train_score, color = 'red', label = 'train_Score')\n",
        "  plt.plot(x_axis, test_score, color = 'blue', label = 'test_Score')\n",
        "  plt.title(title)\n",
        "  plt.legend()\n",
        "  plt.xlabel(\"parameter_value\")\n",
        "  plt.ylabel(\"f1 score\")\n",
        "  plt.show()"
      ],
      "metadata": {
        "id": "xBX8QybvWQUc"
      },
      "execution_count": null,
      "outputs": []
    },
    {
      "cell_type": "code",
      "source": [
        "maxdepth = [i for i in range(1,50)]   #max - hyper parameter\n",
        "train = []\n",
        "test = []\n",
        "\n",
        "for i in maxdepth:  \n",
        "  model = DTC(class_weight = 'balanced', max_depth = i, random_state = 42)\n",
        "  f1, f2 = calc_score(model, x_train, y_train, x_test, y_test)\n",
        "  train.append(f1)\n",
        "  test.append(f2)"
      ],
      "metadata": {
        "id": "vp-U3E-cWXLJ"
      },
      "execution_count": null,
      "outputs": []
    },
    {
      "cell_type": "code",
      "source": [
        "effect( train, test, range(1,50) , 'max_depth')"
      ],
      "metadata": {
        "colab": {
          "base_uri": "https://localhost:8080/",
          "height": 573
        },
        "id": "RXCWFQEmWbiN",
        "outputId": "8ab9a1ce-a675-408a-8051-2fd317a5b361"
      },
      "execution_count": null,
      "outputs": [
        {
          "output_type": "display_data",
          "data": {
            "image/png": "[encoded data removed]",
            "text/plain": [
              "<Figure size 600x600 with 1 Axes>"
            ]
          },
          "metadata": {
            "needs_background": "light"
          }
        }
      ]
    },
    {
      "cell_type": "markdown",
      "source": [
        "## min_samples_split\n",
        "what is the minimum required number of observations in any given node in order to split it.\n",
        "Minimum_sample_split = 2"
      ],
      "metadata": {
        "id": "4JNBj_A_WhMC"
      }
    },
    {
      "cell_type": "code",
      "source": [
        "min_samples = [i for i in range(2,5000, 25)]\n",
        "train = []\n",
        "test = []"
      ],
      "metadata": {
        "id": "0t2oiVQMZrYK"
      },
      "execution_count": null,
      "outputs": []
    },
    {
      "cell_type": "code",
      "source": [
        "for i in min_samples:  \n",
        "  model = DTC(class_weight = 'balanced', min_samples_split = i, random_state = 42)\n",
        "  f1, f2 = calc_score(model, x_train, y_train, x_test, y_test)\n",
        "  train.append(f1)\n",
        "  test.append(f2)"
      ],
      "metadata": {
        "id": "Lc8RsuTWZrjl"
      },
      "execution_count": null,
      "outputs": []
    },
    {
      "cell_type": "code",
      "source": [
        "effect( train, test, range(2,5000, 25) , 'min_samples_split') \n",
        "#max_depth paramete reduces the growth of the decision tree at a macro level.\n"
      ],
      "metadata": {
        "colab": {
          "base_uri": "https://localhost:8080/",
          "height": 573
        },
        "id": "x0vf0pI9Zrn7",
        "outputId": "06f54937-417c-4205-f117-cc94bc66f7fc"
      },
      "execution_count": null,
      "outputs": [
        {
          "output_type": "display_data",
          "data": {
            "image/png": "[encoded data removed]",
            "text/plain": [
              "<Figure size 600x600 with 1 Axes>"
            ]
          },
          "metadata": {
            "needs_background": "light"
          }
        }
      ]
    },
    {
      "cell_type": "markdown",
      "source": [
        "## max_leaf_nodes parameter\n",
        "\n",
        "Maximum no. of terminal nodes or leaf\n",
        "Suppse, after spilting we have \n",
        "no. terrminal nodes> specified number \n",
        "\n",
        "if the vlaue of max_teminal_nodes is too small- the tree underfits."
      ],
      "metadata": {
        "id": "wRyODkTlbAw6"
      }
    },
    {
      "cell_type": "code",
      "source": [
        "maxleafnodes = [i for i in range(2,200,10)]\n",
        "train = []\n",
        "test = []"
      ],
      "metadata": {
        "id": "mKEboQbZZrvZ"
      },
      "execution_count": null,
      "outputs": []
    },
    {
      "cell_type": "code",
      "source": [
        "for i in maxleafnodes:  \n",
        "  model = DTC(class_weight = 'balanced', max_leaf_nodes = i, random_state = 42)\n",
        "  f1, f2 = calc_score(model, x_train, y_train, x_test, y_test)\n",
        "  train.append(f1)\n",
        "  test.append(f2)"
      ],
      "metadata": {
        "id": "kJjyFUs9a5_Z"
      },
      "execution_count": null,
      "outputs": []
    },
    {
      "cell_type": "code",
      "source": [
        "effect( train, test, range(2,200,10) , 'max_leaf_nodes')"
      ],
      "metadata": {
        "colab": {
          "base_uri": "https://localhost:8080/",
          "height": 573
        },
        "id": "7jHC6JFxbk1z",
        "outputId": "b49ec22b-0065-4cbc-dca9-ab158ad86f68"
      },
      "execution_count": null,
      "outputs": [
        {
          "output_type": "display_data",
          "data": {
            "image/png": "[encoded data removed]",
            "text/plain": [
              "<Figure size 600x600 with 1 Axes>"
            ]
          },
          "metadata": {
            "needs_background": "light"
          }
        }
      ]
    },
    {
      "cell_type": "markdown",
      "source": [
        "## min_samples_leaf\n",
        "The minimum no. of samples that should be present in the leaf node after spitting."
      ],
      "metadata": {
        "id": "u51recEBcCRI"
      }
    },
    {
      "cell_type": "code",
      "source": [
        "minsamplesleaf = [i for i in range(2,4000,25)]\n",
        "train = []\n",
        "test = []\n",
        "\n",
        "for i in minsamplesleaf:  \n",
        "  model = DTC(class_weight = 'balanced', min_samples_leaf = i, random_state = 42)\n",
        "  f1, f2 = calc_score(model, x_train, y_train, x_test, y_test)\n",
        "  train.append(f1)\n",
        "  test.append(f2)"
      ],
      "metadata": {
        "id": "qgV3sZocbk8Q"
      },
      "execution_count": null,
      "outputs": []
    },
    {
      "cell_type": "code",
      "source": [
        "effect( train, test, range(2,4000,25) , 'min_samples_leaf')"
      ],
      "metadata": {
        "colab": {
          "base_uri": "https://localhost:8080/",
          "height": 573
        },
        "id": "I8ucFpcKdGEk",
        "outputId": "cfc7bb0a-4fd3-427c-ce2d-72ffae242d66"
      },
      "execution_count": null,
      "outputs": [
        {
          "output_type": "display_data",
          "data": {
            "image/png": "[encoded data removed]",
            "text/plain": [
              "<Figure size 600x600 with 1 Axes>"
            ]
          },
          "metadata": {
            "needs_background": "light"
          }
        }
      ]
    },
    {
      "cell_type": "markdown",
      "source": [
        "which parameter should we tune first ?\n",
        "\n",
        "1. macro- max-depth parameter\n",
        "2. micro- min_samples_split, max_leafnodes,Min_samples_leaf"
      ],
      "metadata": {
        "id": "khS4jdYAfNYo"
      }
    },
    {
      "cell_type": "markdown",
      "source": [
        "Feature importance:\n"
      ],
      "metadata": {
        "id": "kxS2SVr4f7aM"
      }
    },
    {
      "cell_type": "code",
      "source": [
        "model = DTC(max_depth = 9)\n",
        "model.fit(x_train, y_train)\n",
        "feature_imp = pd.Series(model.feature_importances_, index = X.columns)\n",
        "k = feature_imp.sort_values()"
      ],
      "metadata": {
        "id": "IJ2RNLPvb95f"
      },
      "execution_count": null,
      "outputs": []
    },
    {
      "cell_type": "code",
      "source": [
        "plt.figure(figsize = (10,5), dpi = 120)\n",
        "plt.barh(k.index, k)\n",
        "plt.xlabel('Importance')\n",
        "plt.ylabel('feature_name')\n",
        "plt.title('feature importance')"
      ],
      "metadata": {
        "colab": {
          "base_uri": "https://localhost:8080/",
          "height": 404
        },
        "id": "RC4aXqcIb-Ai",
        "outputId": "32e3a3a7-01ca-44ef-d3c0-ba0b6e4727c7"
      },
      "execution_count": null,
      "outputs": [
        {
          "output_type": "execute_result",
          "data": {
            "text/plain": [
              "Text(0.5, 1.0, 'feature importance')"
            ]
          },
          "metadata": {},
          "execution_count": 36
        },
        {
          "output_type": "display_data",
          "data": {
            "image/png": "[encoded data removed]",
            "text/plain": [
              "<Figure size 1200x600 with 1 Axes>"
            ]
          },
          "metadata": {
            "needs_background": "light"
          }
        }
      ]
    }
  ]
}
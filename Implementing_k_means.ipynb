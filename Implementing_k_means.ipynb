{
  "nbformat": 4,
  "nbformat_minor": 0,
  "metadata": {
    "colab": {
      "name": "Implementing_k means.ipynb",
      "provenance": [],
      "collapsed_sections": []
    },
    "kernelspec": {
      "name": "python3",
      "display_name": "Python 3"
    },
    "language_info": {
      "name": "python"
    }
  },
  "cells": [
    {
      "cell_type": "code",
      "execution_count": 1,
      "metadata": {
        "id": "l28tX_1myEKt"
      },
      "outputs": [],
      "source": [
        "import pandas as pd\n",
        "import numpy as np\n",
        "import matplotlib.pyplot as plt\n",
        "%matplotlib inline"
      ]
    },
    {
      "cell_type": "code",
      "source": [
        "data = pd.read_csv(\"/content/drive/MyDrive/M10T3_helper_text/Population_Data.csv\")\n",
        "data.info()"
      ],
      "metadata": {
        "colab": {
          "base_uri": "https://localhost:8080/"
        },
        "id": "pg5gzejGyqlh",
        "outputId": "685bed63-995b-44f7-e2ea-e5d46c67d21d"
      },
      "execution_count": 2,
      "outputs": [
        {
          "output_type": "stream",
          "name": "stdout",
          "text": [
            "<class 'pandas.core.frame.DataFrame'>\n",
            "RangeIndex: 38 entries, 0 to 37\n",
            "Data columns (total 9 columns):\n",
            " #   Column              Non-Null Count  Dtype \n",
            "---  ------              --------------  ----- \n",
            " 0   Region              38 non-null     object\n",
            " 1   Office Location Id  38 non-null     int64 \n",
            " 2   Indians             38 non-null     object\n",
            " 3   Foreigners          38 non-null     object\n",
            " 4   Indian_Male         38 non-null     object\n",
            " 5   Indian_Female       38 non-null     object\n",
            " 6   Foreigners_Male     38 non-null     object\n",
            " 7   Foreigners_Female   38 non-null     object\n",
            " 8   Total Population    38 non-null     object\n",
            "dtypes: int64(1), object(8)\n",
            "memory usage: 2.8+ KB\n"
          ]
        }
      ]
    },
    {
      "cell_type": "code",
      "source": [
        "data.head()"
      ],
      "metadata": {
        "colab": {
          "base_uri": "https://localhost:8080/",
          "height": 206
        },
        "id": "caTvIAaxy3g4",
        "outputId": "5fff75a6-3347-4025-e493-0c12921af886"
      },
      "execution_count": 3,
      "outputs": [
        {
          "output_type": "execute_result",
          "data": {
            "text/html": [
              "\n",
              "  <div id=\"df-15fa36a3-772f-4e01-aeab-4e61c520ecad\">\n",
              "    <div class=\"colab-df-container\">\n",
              "      <div>\n",
              "<style scoped>\n",
              "    .dataframe tbody tr th:only-of-type {\n",
              "        vertical-align: middle;\n",
              "    }\n",
              "\n",
              "    .dataframe tbody tr th {\n",
              "        vertical-align: top;\n",
              "    }\n",
              "\n",
              "    .dataframe thead th {\n",
              "        text-align: right;\n",
              "    }\n",
              "</style>\n",
              "<table border=\"1\" class=\"dataframe\">\n",
              "  <thead>\n",
              "    <tr style=\"text-align: right;\">\n",
              "      <th></th>\n",
              "      <th>Region</th>\n",
              "      <th>Office Location Id</th>\n",
              "      <th>Indians</th>\n",
              "      <th>Foreigners</th>\n",
              "      <th>Indian_Male</th>\n",
              "      <th>Indian_Female</th>\n",
              "      <th>Foreigners_Male</th>\n",
              "      <th>Foreigners_Female</th>\n",
              "      <th>Total Population</th>\n",
              "    </tr>\n",
              "  </thead>\n",
              "  <tbody>\n",
              "    <tr>\n",
              "      <th>0</th>\n",
              "      <td>Region 31</td>\n",
              "      <td>1</td>\n",
              "      <td>6,43,596</td>\n",
              "      <td>28,83,782</td>\n",
              "      <td>4,40,445</td>\n",
              "      <td>2,03,151</td>\n",
              "      <td>27,63,718</td>\n",
              "      <td>72,515</td>\n",
              "      <td>35,27,378</td>\n",
              "    </tr>\n",
              "    <tr>\n",
              "      <th>1</th>\n",
              "      <td>Region 17</td>\n",
              "      <td>9</td>\n",
              "      <td>3,19,933</td>\n",
              "      <td>15,01,899</td>\n",
              "      <td>2,13,477</td>\n",
              "      <td>1,06,456</td>\n",
              "      <td>14,49,303</td>\n",
              "      <td>27,671</td>\n",
              "      <td>1821832</td>\n",
              "    </tr>\n",
              "    <tr>\n",
              "      <th>2</th>\n",
              "      <td>Region 12</td>\n",
              "      <td>4</td>\n",
              "      <td>1,94,379</td>\n",
              "      <td>6,50,744</td>\n",
              "      <td>1,61,803</td>\n",
              "      <td>32,576</td>\n",
              "      <td>6,31,660</td>\n",
              "      <td>10,652</td>\n",
              "      <td>845123</td>\n",
              "    </tr>\n",
              "    <tr>\n",
              "      <th>3</th>\n",
              "      <td>Region 22</td>\n",
              "      <td>15</td>\n",
              "      <td>1,07,360</td>\n",
              "      <td>4,70,708</td>\n",
              "      <td>85,343</td>\n",
              "      <td>22,017</td>\n",
              "      <td>4,50,267</td>\n",
              "      <td>6,389</td>\n",
              "      <td>578068</td>\n",
              "    </tr>\n",
              "    <tr>\n",
              "      <th>4</th>\n",
              "      <td>Region 23</td>\n",
              "      <td>13</td>\n",
              "      <td>55,351</td>\n",
              "      <td>3,29,980</td>\n",
              "      <td>31,796</td>\n",
              "      <td>23,555</td>\n",
              "      <td>3,25,105</td>\n",
              "      <td>3,684</td>\n",
              "      <td>385331</td>\n",
              "    </tr>\n",
              "  </tbody>\n",
              "</table>\n",
              "</div>\n",
              "      <button class=\"colab-df-convert\" onclick=\"convertToInteractive('df-15fa36a3-772f-4e01-aeab-4e61c520ecad')\"\n",
              "              title=\"Convert this dataframe to an interactive table.\"\n",
              "              style=\"display:none;\">\n",
              "        \n",
              "  <svg xmlns=\"http://www.w3.org/2000/svg\" height=\"24px\"viewBox=\"0 0 24 24\"\n",
              "       width=\"24px\">\n",
              "    <path d=\"M0 0h24v24H0V0z\" fill=\"none\"/>\n",
              "    <path d=\"M18.56 5.44l.94 2.06.94-2.06 2.06-.94-2.06-.94-.94-2.06-.94 2.06-2.06.94zm-11 1L8.5 8.5l.94-2.06 2.06-.94-2.06-.94L8.5 2.5l-.94 2.06-2.06.94zm10 10l.94 2.06.94-2.06 2.06-.94-2.06-.94-.94-2.06-.94 2.06-2.06.94z\"/><path d=\"M17.41 7.96l-1.37-1.37c-.4-.4-.92-.59-1.43-.59-.52 0-1.04.2-1.43.59L10.3 9.45l-7.72 7.72c-.78.78-.78 2.05 0 2.83L4 21.41c.39.39.9.59 1.41.59.51 0 1.02-.2 1.41-.59l7.78-7.78 2.81-2.81c.8-.78.8-2.07 0-2.86zM5.41 20L4 18.59l7.72-7.72 1.47 1.35L5.41 20z\"/>\n",
              "  </svg>\n",
              "      </button>\n",
              "      \n",
              "  <style>\n",
              "    .colab-df-container {\n",
              "      display:flex;\n",
              "      flex-wrap:wrap;\n",
              "      gap: 12px;\n",
              "    }\n",
              "\n",
              "    .colab-df-convert {\n",
              "      background-color: #E8F0FE;\n",
              "      border: none;\n",
              "      border-radius: 50%;\n",
              "      cursor: pointer;\n",
              "      display: none;\n",
              "      fill: #1967D2;\n",
              "      height: 32px;\n",
              "      padding: 0 0 0 0;\n",
              "      width: 32px;\n",
              "    }\n",
              "\n",
              "    .colab-df-convert:hover {\n",
              "      background-color: #E2EBFA;\n",
              "      box-shadow: 0px 1px 2px rgba(60, 64, 67, 0.3), 0px 1px 3px 1px rgba(60, 64, 67, 0.15);\n",
              "      fill: #174EA6;\n",
              "    }\n",
              "\n",
              "    [theme=dark] .colab-df-convert {\n",
              "      background-color: #3B4455;\n",
              "      fill: #D2E3FC;\n",
              "    }\n",
              "\n",
              "    [theme=dark] .colab-df-convert:hover {\n",
              "      background-color: #434B5C;\n",
              "      box-shadow: 0px 1px 3px 1px rgba(0, 0, 0, 0.15);\n",
              "      filter: drop-shadow(0px 1px 2px rgba(0, 0, 0, 0.3));\n",
              "      fill: #FFFFFF;\n",
              "    }\n",
              "  </style>\n",
              "\n",
              "      <script>\n",
              "        const buttonEl =\n",
              "          document.querySelector('#df-15fa36a3-772f-4e01-aeab-4e61c520ecad button.colab-df-convert');\n",
              "        buttonEl.style.display =\n",
              "          google.colab.kernel.accessAllowed ? 'block' : 'none';\n",
              "\n",
              "        async function convertToInteractive(key) {\n",
              "          const element = document.querySelector('#df-15fa36a3-772f-4e01-aeab-4e61c520ecad');\n",
              "          const dataTable =\n",
              "            await google.colab.kernel.invokeFunction('convertToInteractive',\n",
              "                                                     [key], {});\n",
              "          if (!dataTable) return;\n",
              "\n",
              "          const docLinkHtml = 'Like what you see? Visit the ' +\n",
              "            '<a target=\"_blank\" href=https://colab.research.google.com/notebooks/data_table.ipynb>data table notebook</a>'\n",
              "            + ' to learn more about interactive tables.';\n",
              "          element.innerHTML = '';\n",
              "          dataTable['output_type'] = 'display_data';\n",
              "          await google.colab.output.renderOutput(dataTable, element);\n",
              "          const docLink = document.createElement('div');\n",
              "          docLink.innerHTML = docLinkHtml;\n",
              "          element.appendChild(docLink);\n",
              "        }\n",
              "      </script>\n",
              "    </div>\n",
              "  </div>\n",
              "  "
            ],
            "text/plain": [
              "      Region  Office Location Id  ... Foreigners_Female Total Population\n",
              "0  Region 31                   1  ...            72,515        35,27,378\n",
              "1  Region 17                   9  ...            27,671          1821832\n",
              "2  Region 12                   4  ...            10,652           845123\n",
              "3  Region 22                  15  ...             6,389           578068\n",
              "4  Region 23                  13  ...             3,684           385331\n",
              "\n",
              "[5 rows x 9 columns]"
            ]
          },
          "metadata": {},
          "execution_count": 3
        }
      ]
    },
    {
      "cell_type": "code",
      "source": [
        "numeric = [\"Indians\",\"Foreigners\",\n",
        "           \"Indian_Male\",\"Indian_Female\",\n",
        "           \"Foreigners_Female\",\n",
        "           'Foreigners_Male',\"Total Population\"]"
      ],
      "metadata": {
        "id": "vr5W7irVyqrB"
      },
      "execution_count": 4,
      "outputs": []
    },
    {
      "cell_type": "code",
      "source": [
        "#define a function to remove commas from the element\n",
        "\n",
        "\n",
        "\n",
        "def cleaner(z):\n",
        "  return z.replace(',','')"
      ],
      "metadata": {
        "id": "1qSZKwfFy8g8"
      },
      "execution_count": 5,
      "outputs": []
    },
    {
      "cell_type": "code",
      "source": [
        "cleaner('100,234')"
      ],
      "metadata": {
        "colab": {
          "base_uri": "https://localhost:8080/",
          "height": 34
        },
        "id": "jVk_I1sWy8m1",
        "outputId": "33eaec14-a97d-4117-e8fe-ae556280f26d"
      },
      "execution_count": 6,
      "outputs": [
        {
          "output_type": "execute_result",
          "data": {
            "application/vnd.google.colaboratory.intrinsic+json": {
              "type": "string"
            },
            "text/plain": [
              "'100234'"
            ]
          },
          "metadata": {},
          "execution_count": 6
        }
      ]
    },
    {
      "cell_type": "code",
      "source": [
        "# converting data object type into numeric type exciplity\n",
        "\n",
        "for i in data[numeric]:\n",
        "  data[i] = data[i].apply(cleaner)"
      ],
      "metadata": {
        "id": "USeEAVovy8tA"
      },
      "execution_count": 7,
      "outputs": []
    },
    {
      "cell_type": "code",
      "source": [
        "data.head()"
      ],
      "metadata": {
        "colab": {
          "base_uri": "https://localhost:8080/",
          "height": 206
        },
        "id": "CxWbo9JFzG-N",
        "outputId": "4cdd7bd6-f894-489c-bc9f-758dfeb711c6"
      },
      "execution_count": 8,
      "outputs": [
        {
          "output_type": "execute_result",
          "data": {
            "text/html": [
              "\n",
              "  <div id=\"df-01f5a2d3-a340-4b38-94a6-c8087e18f8c3\">\n",
              "    <div class=\"colab-df-container\">\n",
              "      <div>\n",
              "<style scoped>\n",
              "    .dataframe tbody tr th:only-of-type {\n",
              "        vertical-align: middle;\n",
              "    }\n",
              "\n",
              "    .dataframe tbody tr th {\n",
              "        vertical-align: top;\n",
              "    }\n",
              "\n",
              "    .dataframe thead th {\n",
              "        text-align: right;\n",
              "    }\n",
              "</style>\n",
              "<table border=\"1\" class=\"dataframe\">\n",
              "  <thead>\n",
              "    <tr style=\"text-align: right;\">\n",
              "      <th></th>\n",
              "      <th>Region</th>\n",
              "      <th>Office Location Id</th>\n",
              "      <th>Indians</th>\n",
              "      <th>Foreigners</th>\n",
              "      <th>Indian_Male</th>\n",
              "      <th>Indian_Female</th>\n",
              "      <th>Foreigners_Male</th>\n",
              "      <th>Foreigners_Female</th>\n",
              "      <th>Total Population</th>\n",
              "    </tr>\n",
              "  </thead>\n",
              "  <tbody>\n",
              "    <tr>\n",
              "      <th>0</th>\n",
              "      <td>Region 31</td>\n",
              "      <td>1</td>\n",
              "      <td>643596</td>\n",
              "      <td>2883782</td>\n",
              "      <td>440445</td>\n",
              "      <td>203151</td>\n",
              "      <td>2763718</td>\n",
              "      <td>72515</td>\n",
              "      <td>3527378</td>\n",
              "    </tr>\n",
              "    <tr>\n",
              "      <th>1</th>\n",
              "      <td>Region 17</td>\n",
              "      <td>9</td>\n",
              "      <td>319933</td>\n",
              "      <td>1501899</td>\n",
              "      <td>213477</td>\n",
              "      <td>106456</td>\n",
              "      <td>1449303</td>\n",
              "      <td>27671</td>\n",
              "      <td>1821832</td>\n",
              "    </tr>\n",
              "    <tr>\n",
              "      <th>2</th>\n",
              "      <td>Region 12</td>\n",
              "      <td>4</td>\n",
              "      <td>194379</td>\n",
              "      <td>650744</td>\n",
              "      <td>161803</td>\n",
              "      <td>32576</td>\n",
              "      <td>631660</td>\n",
              "      <td>10652</td>\n",
              "      <td>845123</td>\n",
              "    </tr>\n",
              "    <tr>\n",
              "      <th>3</th>\n",
              "      <td>Region 22</td>\n",
              "      <td>15</td>\n",
              "      <td>107360</td>\n",
              "      <td>470708</td>\n",
              "      <td>85343</td>\n",
              "      <td>22017</td>\n",
              "      <td>450267</td>\n",
              "      <td>6389</td>\n",
              "      <td>578068</td>\n",
              "    </tr>\n",
              "    <tr>\n",
              "      <th>4</th>\n",
              "      <td>Region 23</td>\n",
              "      <td>13</td>\n",
              "      <td>55351</td>\n",
              "      <td>329980</td>\n",
              "      <td>31796</td>\n",
              "      <td>23555</td>\n",
              "      <td>325105</td>\n",
              "      <td>3684</td>\n",
              "      <td>385331</td>\n",
              "    </tr>\n",
              "  </tbody>\n",
              "</table>\n",
              "</div>\n",
              "      <button class=\"colab-df-convert\" onclick=\"convertToInteractive('df-01f5a2d3-a340-4b38-94a6-c8087e18f8c3')\"\n",
              "              title=\"Convert this dataframe to an interactive table.\"\n",
              "              style=\"display:none;\">\n",
              "        \n",
              "  <svg xmlns=\"http://www.w3.org/2000/svg\" height=\"24px\"viewBox=\"0 0 24 24\"\n",
              "       width=\"24px\">\n",
              "    <path d=\"M0 0h24v24H0V0z\" fill=\"none\"/>\n",
              "    <path d=\"M18.56 5.44l.94 2.06.94-2.06 2.06-.94-2.06-.94-.94-2.06-.94 2.06-2.06.94zm-11 1L8.5 8.5l.94-2.06 2.06-.94-2.06-.94L8.5 2.5l-.94 2.06-2.06.94zm10 10l.94 2.06.94-2.06 2.06-.94-2.06-.94-.94-2.06-.94 2.06-2.06.94z\"/><path d=\"M17.41 7.96l-1.37-1.37c-.4-.4-.92-.59-1.43-.59-.52 0-1.04.2-1.43.59L10.3 9.45l-7.72 7.72c-.78.78-.78 2.05 0 2.83L4 21.41c.39.39.9.59 1.41.59.51 0 1.02-.2 1.41-.59l7.78-7.78 2.81-2.81c.8-.78.8-2.07 0-2.86zM5.41 20L4 18.59l7.72-7.72 1.47 1.35L5.41 20z\"/>\n",
              "  </svg>\n",
              "      </button>\n",
              "      \n",
              "  <style>\n",
              "    .colab-df-container {\n",
              "      display:flex;\n",
              "      flex-wrap:wrap;\n",
              "      gap: 12px;\n",
              "    }\n",
              "\n",
              "    .colab-df-convert {\n",
              "      background-color: #E8F0FE;\n",
              "      border: none;\n",
              "      border-radius: 50%;\n",
              "      cursor: pointer;\n",
              "      display: none;\n",
              "      fill: #1967D2;\n",
              "      height: 32px;\n",
              "      padding: 0 0 0 0;\n",
              "      width: 32px;\n",
              "    }\n",
              "\n",
              "    .colab-df-convert:hover {\n",
              "      background-color: #E2EBFA;\n",
              "      box-shadow: 0px 1px 2px rgba(60, 64, 67, 0.3), 0px 1px 3px 1px rgba(60, 64, 67, 0.15);\n",
              "      fill: #174EA6;\n",
              "    }\n",
              "\n",
              "    [theme=dark] .colab-df-convert {\n",
              "      background-color: #3B4455;\n",
              "      fill: #D2E3FC;\n",
              "    }\n",
              "\n",
              "    [theme=dark] .colab-df-convert:hover {\n",
              "      background-color: #434B5C;\n",
              "      box-shadow: 0px 1px 3px 1px rgba(0, 0, 0, 0.15);\n",
              "      filter: drop-shadow(0px 1px 2px rgba(0, 0, 0, 0.3));\n",
              "      fill: #FFFFFF;\n",
              "    }\n",
              "  </style>\n",
              "\n",
              "      <script>\n",
              "        const buttonEl =\n",
              "          document.querySelector('#df-01f5a2d3-a340-4b38-94a6-c8087e18f8c3 button.colab-df-convert');\n",
              "        buttonEl.style.display =\n",
              "          google.colab.kernel.accessAllowed ? 'block' : 'none';\n",
              "\n",
              "        async function convertToInteractive(key) {\n",
              "          const element = document.querySelector('#df-01f5a2d3-a340-4b38-94a6-c8087e18f8c3');\n",
              "          const dataTable =\n",
              "            await google.colab.kernel.invokeFunction('convertToInteractive',\n",
              "                                                     [key], {});\n",
              "          if (!dataTable) return;\n",
              "\n",
              "          const docLinkHtml = 'Like what you see? Visit the ' +\n",
              "            '<a target=\"_blank\" href=https://colab.research.google.com/notebooks/data_table.ipynb>data table notebook</a>'\n",
              "            + ' to learn more about interactive tables.';\n",
              "          element.innerHTML = '';\n",
              "          dataTable['output_type'] = 'display_data';\n",
              "          await google.colab.output.renderOutput(dataTable, element);\n",
              "          const docLink = document.createElement('div');\n",
              "          docLink.innerHTML = docLinkHtml;\n",
              "          element.appendChild(docLink);\n",
              "        }\n",
              "      </script>\n",
              "    </div>\n",
              "  </div>\n",
              "  "
            ],
            "text/plain": [
              "      Region  Office Location Id  ... Foreigners_Female Total Population\n",
              "0  Region 31                   1  ...             72515          3527378\n",
              "1  Region 17                   9  ...             27671          1821832\n",
              "2  Region 12                   4  ...             10652           845123\n",
              "3  Region 22                  15  ...              6389           578068\n",
              "4  Region 23                  13  ...              3684           385331\n",
              "\n",
              "[5 rows x 9 columns]"
            ]
          },
          "metadata": {},
          "execution_count": 8
        }
      ]
    },
    {
      "cell_type": "code",
      "source": [
        "data.info()"
      ],
      "metadata": {
        "colab": {
          "base_uri": "https://localhost:8080/"
        },
        "id": "sXq8g7CyzHF4",
        "outputId": "2fedc923-ec5b-40db-f818-573eb3a287d1"
      },
      "execution_count": 9,
      "outputs": [
        {
          "output_type": "stream",
          "name": "stdout",
          "text": [
            "<class 'pandas.core.frame.DataFrame'>\n",
            "RangeIndex: 38 entries, 0 to 37\n",
            "Data columns (total 9 columns):\n",
            " #   Column              Non-Null Count  Dtype \n",
            "---  ------              --------------  ----- \n",
            " 0   Region              38 non-null     object\n",
            " 1   Office Location Id  38 non-null     int64 \n",
            " 2   Indians             38 non-null     object\n",
            " 3   Foreigners          38 non-null     object\n",
            " 4   Indian_Male         38 non-null     object\n",
            " 5   Indian_Female       38 non-null     object\n",
            " 6   Foreigners_Male     38 non-null     object\n",
            " 7   Foreigners_Female   38 non-null     object\n",
            " 8   Total Population    38 non-null     object\n",
            "dtypes: int64(1), object(8)\n",
            "memory usage: 2.8+ KB\n"
          ]
        }
      ]
    },
    {
      "cell_type": "code",
      "source": [
        "data[numeric] = data[numeric].apply(pd.to_numeric)\n",
        "data.info()"
      ],
      "metadata": {
        "colab": {
          "base_uri": "https://localhost:8080/"
        },
        "id": "5p6uxSoxzHJ7",
        "outputId": "7e35eda1-15a0-46e9-f962-32aad6b92b9c"
      },
      "execution_count": 10,
      "outputs": [
        {
          "output_type": "stream",
          "name": "stdout",
          "text": [
            "<class 'pandas.core.frame.DataFrame'>\n",
            "RangeIndex: 38 entries, 0 to 37\n",
            "Data columns (total 9 columns):\n",
            " #   Column              Non-Null Count  Dtype \n",
            "---  ------              --------------  ----- \n",
            " 0   Region              38 non-null     object\n",
            " 1   Office Location Id  38 non-null     int64 \n",
            " 2   Indians             38 non-null     int64 \n",
            " 3   Foreigners          38 non-null     int64 \n",
            " 4   Indian_Male         38 non-null     int64 \n",
            " 5   Indian_Female       38 non-null     int64 \n",
            " 6   Foreigners_Male     38 non-null     int64 \n",
            " 7   Foreigners_Female   38 non-null     int64 \n",
            " 8   Total Population    38 non-null     int64 \n",
            "dtypes: int64(8), object(1)\n",
            "memory usage: 2.8+ KB\n"
          ]
        }
      ]
    },
    {
      "cell_type": "code",
      "source": [
        "#verifying intagrety of data\n",
        "\n",
        "data[['Indians','Foreigners']].sum().sum() - data['Total Population'].sum()"
      ],
      "metadata": {
        "colab": {
          "base_uri": "https://localhost:8080/"
        },
        "id": "nQuku1hFzQsw",
        "outputId": "80195f8a-bb33-40cd-ae23-37636694b632"
      },
      "execution_count": 11,
      "outputs": [
        {
          "output_type": "execute_result",
          "data": {
            "text/plain": [
              "0"
            ]
          },
          "metadata": {},
          "execution_count": 11
        }
      ]
    },
    {
      "cell_type": "code",
      "source": [
        "data[['Indian_Male','Indian_Female',\"Foreigners_Male\",'Foreigners_Female']].sum().sum() - data['Total Population'].sum()"
      ],
      "metadata": {
        "colab": {
          "base_uri": "https://localhost:8080/"
        },
        "id": "RQlQMF14zUj5",
        "outputId": "bd852522-efc6-4b4c-f034-cb58915dabd1"
      },
      "execution_count": 12,
      "outputs": [
        {
          "output_type": "execute_result",
          "data": {
            "text/plain": [
              "-112859"
            ]
          },
          "metadata": {},
          "execution_count": 12
        }
      ]
    },
    {
      "cell_type": "code",
      "source": [
        "MF_sum = data['Indian_Male'] + data['Indian_Female'] + data[\"Foreigners_Male\"] + data['Foreigners_Female']\n",
        "data['other'] = data['Total Population'] - MF_sum\n",
        "data.head()"
      ],
      "metadata": {
        "colab": {
          "base_uri": "https://localhost:8080/",
          "height": 206
        },
        "id": "udCNwhezzaU0",
        "outputId": "9afc683f-77c9-45cb-b4de-bedd4a32bcd1"
      },
      "execution_count": 13,
      "outputs": [
        {
          "output_type": "execute_result",
          "data": {
            "text/html": [
              "\n",
              "  <div id=\"df-8822ec94-863b-46ff-9f2a-967f8e7295ae\">\n",
              "    <div class=\"colab-df-container\">\n",
              "      <div>\n",
              "<style scoped>\n",
              "    .dataframe tbody tr th:only-of-type {\n",
              "        vertical-align: middle;\n",
              "    }\n",
              "\n",
              "    .dataframe tbody tr th {\n",
              "        vertical-align: top;\n",
              "    }\n",
              "\n",
              "    .dataframe thead th {\n",
              "        text-align: right;\n",
              "    }\n",
              "</style>\n",
              "<table border=\"1\" class=\"dataframe\">\n",
              "  <thead>\n",
              "    <tr style=\"text-align: right;\">\n",
              "      <th></th>\n",
              "      <th>Region</th>\n",
              "      <th>Office Location Id</th>\n",
              "      <th>Indians</th>\n",
              "      <th>Foreigners</th>\n",
              "      <th>Indian_Male</th>\n",
              "      <th>Indian_Female</th>\n",
              "      <th>Foreigners_Male</th>\n",
              "      <th>Foreigners_Female</th>\n",
              "      <th>Total Population</th>\n",
              "      <th>other</th>\n",
              "    </tr>\n",
              "  </thead>\n",
              "  <tbody>\n",
              "    <tr>\n",
              "      <th>0</th>\n",
              "      <td>Region 31</td>\n",
              "      <td>1</td>\n",
              "      <td>643596</td>\n",
              "      <td>2883782</td>\n",
              "      <td>440445</td>\n",
              "      <td>203151</td>\n",
              "      <td>2763718</td>\n",
              "      <td>72515</td>\n",
              "      <td>3527378</td>\n",
              "      <td>47549</td>\n",
              "    </tr>\n",
              "    <tr>\n",
              "      <th>1</th>\n",
              "      <td>Region 17</td>\n",
              "      <td>9</td>\n",
              "      <td>319933</td>\n",
              "      <td>1501899</td>\n",
              "      <td>213477</td>\n",
              "      <td>106456</td>\n",
              "      <td>1449303</td>\n",
              "      <td>27671</td>\n",
              "      <td>1821832</td>\n",
              "      <td>24925</td>\n",
              "    </tr>\n",
              "    <tr>\n",
              "      <th>2</th>\n",
              "      <td>Region 12</td>\n",
              "      <td>4</td>\n",
              "      <td>194379</td>\n",
              "      <td>650744</td>\n",
              "      <td>161803</td>\n",
              "      <td>32576</td>\n",
              "      <td>631660</td>\n",
              "      <td>10652</td>\n",
              "      <td>845123</td>\n",
              "      <td>8432</td>\n",
              "    </tr>\n",
              "    <tr>\n",
              "      <th>3</th>\n",
              "      <td>Region 22</td>\n",
              "      <td>15</td>\n",
              "      <td>107360</td>\n",
              "      <td>470708</td>\n",
              "      <td>85343</td>\n",
              "      <td>22017</td>\n",
              "      <td>450267</td>\n",
              "      <td>6389</td>\n",
              "      <td>578068</td>\n",
              "      <td>14052</td>\n",
              "    </tr>\n",
              "    <tr>\n",
              "      <th>4</th>\n",
              "      <td>Region 23</td>\n",
              "      <td>13</td>\n",
              "      <td>55351</td>\n",
              "      <td>329980</td>\n",
              "      <td>31796</td>\n",
              "      <td>23555</td>\n",
              "      <td>325105</td>\n",
              "      <td>3684</td>\n",
              "      <td>385331</td>\n",
              "      <td>1191</td>\n",
              "    </tr>\n",
              "  </tbody>\n",
              "</table>\n",
              "</div>\n",
              "      <button class=\"colab-df-convert\" onclick=\"convertToInteractive('df-8822ec94-863b-46ff-9f2a-967f8e7295ae')\"\n",
              "              title=\"Convert this dataframe to an interactive table.\"\n",
              "              style=\"display:none;\">\n",
              "        \n",
              "  <svg xmlns=\"http://www.w3.org/2000/svg\" height=\"24px\"viewBox=\"0 0 24 24\"\n",
              "       width=\"24px\">\n",
              "    <path d=\"M0 0h24v24H0V0z\" fill=\"none\"/>\n",
              "    <path d=\"M18.56 5.44l.94 2.06.94-2.06 2.06-.94-2.06-.94-.94-2.06-.94 2.06-2.06.94zm-11 1L8.5 8.5l.94-2.06 2.06-.94-2.06-.94L8.5 2.5l-.94 2.06-2.06.94zm10 10l.94 2.06.94-2.06 2.06-.94-2.06-.94-.94-2.06-.94 2.06-2.06.94z\"/><path d=\"M17.41 7.96l-1.37-1.37c-.4-.4-.92-.59-1.43-.59-.52 0-1.04.2-1.43.59L10.3 9.45l-7.72 7.72c-.78.78-.78 2.05 0 2.83L4 21.41c.39.39.9.59 1.41.59.51 0 1.02-.2 1.41-.59l7.78-7.78 2.81-2.81c.8-.78.8-2.07 0-2.86zM5.41 20L4 18.59l7.72-7.72 1.47 1.35L5.41 20z\"/>\n",
              "  </svg>\n",
              "      </button>\n",
              "      \n",
              "  <style>\n",
              "    .colab-df-container {\n",
              "      display:flex;\n",
              "      flex-wrap:wrap;\n",
              "      gap: 12px;\n",
              "    }\n",
              "\n",
              "    .colab-df-convert {\n",
              "      background-color: #E8F0FE;\n",
              "      border: none;\n",
              "      border-radius: 50%;\n",
              "      cursor: pointer;\n",
              "      display: none;\n",
              "      fill: #1967D2;\n",
              "      height: 32px;\n",
              "      padding: 0 0 0 0;\n",
              "      width: 32px;\n",
              "    }\n",
              "\n",
              "    .colab-df-convert:hover {\n",
              "      background-color: #E2EBFA;\n",
              "      box-shadow: 0px 1px 2px rgba(60, 64, 67, 0.3), 0px 1px 3px 1px rgba(60, 64, 67, 0.15);\n",
              "      fill: #174EA6;\n",
              "    }\n",
              "\n",
              "    [theme=dark] .colab-df-convert {\n",
              "      background-color: #3B4455;\n",
              "      fill: #D2E3FC;\n",
              "    }\n",
              "\n",
              "    [theme=dark] .colab-df-convert:hover {\n",
              "      background-color: #434B5C;\n",
              "      box-shadow: 0px 1px 3px 1px rgba(0, 0, 0, 0.15);\n",
              "      filter: drop-shadow(0px 1px 2px rgba(0, 0, 0, 0.3));\n",
              "      fill: #FFFFFF;\n",
              "    }\n",
              "  </style>\n",
              "\n",
              "      <script>\n",
              "        const buttonEl =\n",
              "          document.querySelector('#df-8822ec94-863b-46ff-9f2a-967f8e7295ae button.colab-df-convert');\n",
              "        buttonEl.style.display =\n",
              "          google.colab.kernel.accessAllowed ? 'block' : 'none';\n",
              "\n",
              "        async function convertToInteractive(key) {\n",
              "          const element = document.querySelector('#df-8822ec94-863b-46ff-9f2a-967f8e7295ae');\n",
              "          const dataTable =\n",
              "            await google.colab.kernel.invokeFunction('convertToInteractive',\n",
              "                                                     [key], {});\n",
              "          if (!dataTable) return;\n",
              "\n",
              "          const docLinkHtml = 'Like what you see? Visit the ' +\n",
              "            '<a target=\"_blank\" href=https://colab.research.google.com/notebooks/data_table.ipynb>data table notebook</a>'\n",
              "            + ' to learn more about interactive tables.';\n",
              "          element.innerHTML = '';\n",
              "          dataTable['output_type'] = 'display_data';\n",
              "          await google.colab.output.renderOutput(dataTable, element);\n",
              "          const docLink = document.createElement('div');\n",
              "          docLink.innerHTML = docLinkHtml;\n",
              "          element.appendChild(docLink);\n",
              "        }\n",
              "      </script>\n",
              "    </div>\n",
              "  </div>\n",
              "  "
            ],
            "text/plain": [
              "      Region  Office Location Id  ...  Total Population  other\n",
              "0  Region 31                   1  ...           3527378  47549\n",
              "1  Region 17                   9  ...           1821832  24925\n",
              "2  Region 12                   4  ...            845123   8432\n",
              "3  Region 22                  15  ...            578068  14052\n",
              "4  Region 23                  13  ...            385331   1191\n",
              "\n",
              "[5 rows x 10 columns]"
            ]
          },
          "metadata": {},
          "execution_count": 13
        }
      ]
    },
    {
      "cell_type": "code",
      "source": [
        "data['Region'].nunique(),data['Office Location Id'].nunique()"
      ],
      "metadata": {
        "colab": {
          "base_uri": "https://localhost:8080/"
        },
        "id": "ZHgE7u8xzadI",
        "outputId": "9c755be8-a161-4c92-cf9b-e2206b547eff"
      },
      "execution_count": 14,
      "outputs": [
        {
          "output_type": "execute_result",
          "data": {
            "text/plain": [
              "(38, 38)"
            ]
          },
          "metadata": {},
          "execution_count": 14
        }
      ]
    },
    {
      "cell_type": "code",
      "source": [
        "#remove the sumof the columns\n",
        "\n",
        "data1 = data.drop(columns = ['Region',\"Office Location Id\", 'Total Population']) \n",
        "data1.head()"
      ],
      "metadata": {
        "colab": {
          "base_uri": "https://localhost:8080/",
          "height": 206
        },
        "id": "wUQTpMd8zamU",
        "outputId": "053d9d1c-84f9-4853-9ae2-491c652ec8a0"
      },
      "execution_count": 15,
      "outputs": [
        {
          "output_type": "execute_result",
          "data": {
            "text/html": [
              "\n",
              "  <div id=\"df-0286d285-72fb-4e7d-854a-aaa8b2f2f4d1\">\n",
              "    <div class=\"colab-df-container\">\n",
              "      <div>\n",
              "<style scoped>\n",
              "    .dataframe tbody tr th:only-of-type {\n",
              "        vertical-align: middle;\n",
              "    }\n",
              "\n",
              "    .dataframe tbody tr th {\n",
              "        vertical-align: top;\n",
              "    }\n",
              "\n",
              "    .dataframe thead th {\n",
              "        text-align: right;\n",
              "    }\n",
              "</style>\n",
              "<table border=\"1\" class=\"dataframe\">\n",
              "  <thead>\n",
              "    <tr style=\"text-align: right;\">\n",
              "      <th></th>\n",
              "      <th>Indians</th>\n",
              "      <th>Foreigners</th>\n",
              "      <th>Indian_Male</th>\n",
              "      <th>Indian_Female</th>\n",
              "      <th>Foreigners_Male</th>\n",
              "      <th>Foreigners_Female</th>\n",
              "      <th>other</th>\n",
              "    </tr>\n",
              "  </thead>\n",
              "  <tbody>\n",
              "    <tr>\n",
              "      <th>0</th>\n",
              "      <td>643596</td>\n",
              "      <td>2883782</td>\n",
              "      <td>440445</td>\n",
              "      <td>203151</td>\n",
              "      <td>2763718</td>\n",
              "      <td>72515</td>\n",
              "      <td>47549</td>\n",
              "    </tr>\n",
              "    <tr>\n",
              "      <th>1</th>\n",
              "      <td>319933</td>\n",
              "      <td>1501899</td>\n",
              "      <td>213477</td>\n",
              "      <td>106456</td>\n",
              "      <td>1449303</td>\n",
              "      <td>27671</td>\n",
              "      <td>24925</td>\n",
              "    </tr>\n",
              "    <tr>\n",
              "      <th>2</th>\n",
              "      <td>194379</td>\n",
              "      <td>650744</td>\n",
              "      <td>161803</td>\n",
              "      <td>32576</td>\n",
              "      <td>631660</td>\n",
              "      <td>10652</td>\n",
              "      <td>8432</td>\n",
              "    </tr>\n",
              "    <tr>\n",
              "      <th>3</th>\n",
              "      <td>107360</td>\n",
              "      <td>470708</td>\n",
              "      <td>85343</td>\n",
              "      <td>22017</td>\n",
              "      <td>450267</td>\n",
              "      <td>6389</td>\n",
              "      <td>14052</td>\n",
              "    </tr>\n",
              "    <tr>\n",
              "      <th>4</th>\n",
              "      <td>55351</td>\n",
              "      <td>329980</td>\n",
              "      <td>31796</td>\n",
              "      <td>23555</td>\n",
              "      <td>325105</td>\n",
              "      <td>3684</td>\n",
              "      <td>1191</td>\n",
              "    </tr>\n",
              "  </tbody>\n",
              "</table>\n",
              "</div>\n",
              "      <button class=\"colab-df-convert\" onclick=\"convertToInteractive('df-0286d285-72fb-4e7d-854a-aaa8b2f2f4d1')\"\n",
              "              title=\"Convert this dataframe to an interactive table.\"\n",
              "              style=\"display:none;\">\n",
              "        \n",
              "  <svg xmlns=\"http://www.w3.org/2000/svg\" height=\"24px\"viewBox=\"0 0 24 24\"\n",
              "       width=\"24px\">\n",
              "    <path d=\"M0 0h24v24H0V0z\" fill=\"none\"/>\n",
              "    <path d=\"M18.56 5.44l.94 2.06.94-2.06 2.06-.94-2.06-.94-.94-2.06-.94 2.06-2.06.94zm-11 1L8.5 8.5l.94-2.06 2.06-.94-2.06-.94L8.5 2.5l-.94 2.06-2.06.94zm10 10l.94 2.06.94-2.06 2.06-.94-2.06-.94-.94-2.06-.94 2.06-2.06.94z\"/><path d=\"M17.41 7.96l-1.37-1.37c-.4-.4-.92-.59-1.43-.59-.52 0-1.04.2-1.43.59L10.3 9.45l-7.72 7.72c-.78.78-.78 2.05 0 2.83L4 21.41c.39.39.9.59 1.41.59.51 0 1.02-.2 1.41-.59l7.78-7.78 2.81-2.81c.8-.78.8-2.07 0-2.86zM5.41 20L4 18.59l7.72-7.72 1.47 1.35L5.41 20z\"/>\n",
              "  </svg>\n",
              "      </button>\n",
              "      \n",
              "  <style>\n",
              "    .colab-df-container {\n",
              "      display:flex;\n",
              "      flex-wrap:wrap;\n",
              "      gap: 12px;\n",
              "    }\n",
              "\n",
              "    .colab-df-convert {\n",
              "      background-color: #E8F0FE;\n",
              "      border: none;\n",
              "      border-radius: 50%;\n",
              "      cursor: pointer;\n",
              "      display: none;\n",
              "      fill: #1967D2;\n",
              "      height: 32px;\n",
              "      padding: 0 0 0 0;\n",
              "      width: 32px;\n",
              "    }\n",
              "\n",
              "    .colab-df-convert:hover {\n",
              "      background-color: #E2EBFA;\n",
              "      box-shadow: 0px 1px 2px rgba(60, 64, 67, 0.3), 0px 1px 3px 1px rgba(60, 64, 67, 0.15);\n",
              "      fill: #174EA6;\n",
              "    }\n",
              "\n",
              "    [theme=dark] .colab-df-convert {\n",
              "      background-color: #3B4455;\n",
              "      fill: #D2E3FC;\n",
              "    }\n",
              "\n",
              "    [theme=dark] .colab-df-convert:hover {\n",
              "      background-color: #434B5C;\n",
              "      box-shadow: 0px 1px 3px 1px rgba(0, 0, 0, 0.15);\n",
              "      filter: drop-shadow(0px 1px 2px rgba(0, 0, 0, 0.3));\n",
              "      fill: #FFFFFF;\n",
              "    }\n",
              "  </style>\n",
              "\n",
              "      <script>\n",
              "        const buttonEl =\n",
              "          document.querySelector('#df-0286d285-72fb-4e7d-854a-aaa8b2f2f4d1 button.colab-df-convert');\n",
              "        buttonEl.style.display =\n",
              "          google.colab.kernel.accessAllowed ? 'block' : 'none';\n",
              "\n",
              "        async function convertToInteractive(key) {\n",
              "          const element = document.querySelector('#df-0286d285-72fb-4e7d-854a-aaa8b2f2f4d1');\n",
              "          const dataTable =\n",
              "            await google.colab.kernel.invokeFunction('convertToInteractive',\n",
              "                                                     [key], {});\n",
              "          if (!dataTable) return;\n",
              "\n",
              "          const docLinkHtml = 'Like what you see? Visit the ' +\n",
              "            '<a target=\"_blank\" href=https://colab.research.google.com/notebooks/data_table.ipynb>data table notebook</a>'\n",
              "            + ' to learn more about interactive tables.';\n",
              "          element.innerHTML = '';\n",
              "          dataTable['output_type'] = 'display_data';\n",
              "          await google.colab.output.renderOutput(dataTable, element);\n",
              "          const docLink = document.createElement('div');\n",
              "          docLink.innerHTML = docLinkHtml;\n",
              "          element.appendChild(docLink);\n",
              "        }\n",
              "      </script>\n",
              "    </div>\n",
              "  </div>\n",
              "  "
            ],
            "text/plain": [
              "   Indians  Foreigners  Indian_Male  ...  Foreigners_Male  Foreigners_Female  other\n",
              "0   643596     2883782       440445  ...          2763718              72515  47549\n",
              "1   319933     1501899       213477  ...          1449303              27671  24925\n",
              "2   194379      650744       161803  ...           631660              10652   8432\n",
              "3   107360      470708        85343  ...           450267               6389  14052\n",
              "4    55351      329980        31796  ...           325105               3684   1191\n",
              "\n",
              "[5 rows x 7 columns]"
            ]
          },
          "metadata": {},
          "execution_count": 15
        }
      ]
    },
    {
      "cell_type": "code",
      "source": [
        "#Normalize the variable\n",
        "\n",
        "from sklearn.preprocessing import Normalizer\n",
        "norm = Normalizer()\n",
        "columns = data1.columns\n",
        "data1 = norm.fit_transform(data1)\n",
        "\n",
        "data1 = pd.DataFrame(data1, columns = columns)\n",
        "data1.head()"
      ],
      "metadata": {
        "colab": {
          "base_uri": "https://localhost:8080/",
          "height": 206
        },
        "id": "fRs_Np_rzi-0",
        "outputId": "bfe59eb3-e7f0-41d6-bb91-a0b8cd8db38a"
      },
      "execution_count": 16,
      "outputs": [
        {
          "output_type": "execute_result",
          "data": {
            "text/html": [
              "\n",
              "  <div id=\"df-e8ff7e13-2f75-4553-b076-cd9d076d780c\">\n",
              "    <div class=\"colab-df-container\">\n",
              "      <div>\n",
              "<style scoped>\n",
              "    .dataframe tbody tr th:only-of-type {\n",
              "        vertical-align: middle;\n",
              "    }\n",
              "\n",
              "    .dataframe tbody tr th {\n",
              "        vertical-align: top;\n",
              "    }\n",
              "\n",
              "    .dataframe thead th {\n",
              "        text-align: right;\n",
              "    }\n",
              "</style>\n",
              "<table border=\"1\" class=\"dataframe\">\n",
              "  <thead>\n",
              "    <tr style=\"text-align: right;\">\n",
              "      <th></th>\n",
              "      <th>Indians</th>\n",
              "      <th>Foreigners</th>\n",
              "      <th>Indian_Male</th>\n",
              "      <th>Indian_Female</th>\n",
              "      <th>Foreigners_Male</th>\n",
              "      <th>Foreigners_Female</th>\n",
              "      <th>other</th>\n",
              "    </tr>\n",
              "  </thead>\n",
              "  <tbody>\n",
              "    <tr>\n",
              "      <th>0</th>\n",
              "      <td>0.157911</td>\n",
              "      <td>0.707555</td>\n",
              "      <td>0.108066</td>\n",
              "      <td>0.049844</td>\n",
              "      <td>0.678096</td>\n",
              "      <td>0.017792</td>\n",
              "      <td>0.011666</td>\n",
              "    </tr>\n",
              "    <tr>\n",
              "      <th>1</th>\n",
              "      <td>0.150537</td>\n",
              "      <td>0.706682</td>\n",
              "      <td>0.100446</td>\n",
              "      <td>0.050090</td>\n",
              "      <td>0.681934</td>\n",
              "      <td>0.013020</td>\n",
              "      <td>0.011728</td>\n",
              "    </tr>\n",
              "    <tr>\n",
              "      <th>2</th>\n",
              "      <td>0.206311</td>\n",
              "      <td>0.690691</td>\n",
              "      <td>0.171736</td>\n",
              "      <td>0.034576</td>\n",
              "      <td>0.670436</td>\n",
              "      <td>0.011306</td>\n",
              "      <td>0.008950</td>\n",
              "    </tr>\n",
              "    <tr>\n",
              "      <th>3</th>\n",
              "      <td>0.161150</td>\n",
              "      <td>0.706543</td>\n",
              "      <td>0.128102</td>\n",
              "      <td>0.033048</td>\n",
              "      <td>0.675861</td>\n",
              "      <td>0.009590</td>\n",
              "      <td>0.021092</td>\n",
              "    </tr>\n",
              "    <tr>\n",
              "      <th>4</th>\n",
              "      <td>0.118217</td>\n",
              "      <td>0.704763</td>\n",
              "      <td>0.067909</td>\n",
              "      <td>0.050308</td>\n",
              "      <td>0.694351</td>\n",
              "      <td>0.007868</td>\n",
              "      <td>0.002544</td>\n",
              "    </tr>\n",
              "  </tbody>\n",
              "</table>\n",
              "</div>\n",
              "      <button class=\"colab-df-convert\" onclick=\"convertToInteractive('df-e8ff7e13-2f75-4553-b076-cd9d076d780c')\"\n",
              "              title=\"Convert this dataframe to an interactive table.\"\n",
              "              style=\"display:none;\">\n",
              "        \n",
              "  <svg xmlns=\"http://www.w3.org/2000/svg\" height=\"24px\"viewBox=\"0 0 24 24\"\n",
              "       width=\"24px\">\n",
              "    <path d=\"M0 0h24v24H0V0z\" fill=\"none\"/>\n",
              "    <path d=\"M18.56 5.44l.94 2.06.94-2.06 2.06-.94-2.06-.94-.94-2.06-.94 2.06-2.06.94zm-11 1L8.5 8.5l.94-2.06 2.06-.94-2.06-.94L8.5 2.5l-.94 2.06-2.06.94zm10 10l.94 2.06.94-2.06 2.06-.94-2.06-.94-.94-2.06-.94 2.06-2.06.94z\"/><path d=\"M17.41 7.96l-1.37-1.37c-.4-.4-.92-.59-1.43-.59-.52 0-1.04.2-1.43.59L10.3 9.45l-7.72 7.72c-.78.78-.78 2.05 0 2.83L4 21.41c.39.39.9.59 1.41.59.51 0 1.02-.2 1.41-.59l7.78-7.78 2.81-2.81c.8-.78.8-2.07 0-2.86zM5.41 20L4 18.59l7.72-7.72 1.47 1.35L5.41 20z\"/>\n",
              "  </svg>\n",
              "      </button>\n",
              "      \n",
              "  <style>\n",
              "    .colab-df-container {\n",
              "      display:flex;\n",
              "      flex-wrap:wrap;\n",
              "      gap: 12px;\n",
              "    }\n",
              "\n",
              "    .colab-df-convert {\n",
              "      background-color: #E8F0FE;\n",
              "      border: none;\n",
              "      border-radius: 50%;\n",
              "      cursor: pointer;\n",
              "      display: none;\n",
              "      fill: #1967D2;\n",
              "      height: 32px;\n",
              "      padding: 0 0 0 0;\n",
              "      width: 32px;\n",
              "    }\n",
              "\n",
              "    .colab-df-convert:hover {\n",
              "      background-color: #E2EBFA;\n",
              "      box-shadow: 0px 1px 2px rgba(60, 64, 67, 0.3), 0px 1px 3px 1px rgba(60, 64, 67, 0.15);\n",
              "      fill: #174EA6;\n",
              "    }\n",
              "\n",
              "    [theme=dark] .colab-df-convert {\n",
              "      background-color: #3B4455;\n",
              "      fill: #D2E3FC;\n",
              "    }\n",
              "\n",
              "    [theme=dark] .colab-df-convert:hover {\n",
              "      background-color: #434B5C;\n",
              "      box-shadow: 0px 1px 3px 1px rgba(0, 0, 0, 0.15);\n",
              "      filter: drop-shadow(0px 1px 2px rgba(0, 0, 0, 0.3));\n",
              "      fill: #FFFFFF;\n",
              "    }\n",
              "  </style>\n",
              "\n",
              "      <script>\n",
              "        const buttonEl =\n",
              "          document.querySelector('#df-e8ff7e13-2f75-4553-b076-cd9d076d780c button.colab-df-convert');\n",
              "        buttonEl.style.display =\n",
              "          google.colab.kernel.accessAllowed ? 'block' : 'none';\n",
              "\n",
              "        async function convertToInteractive(key) {\n",
              "          const element = document.querySelector('#df-e8ff7e13-2f75-4553-b076-cd9d076d780c');\n",
              "          const dataTable =\n",
              "            await google.colab.kernel.invokeFunction('convertToInteractive',\n",
              "                                                     [key], {});\n",
              "          if (!dataTable) return;\n",
              "\n",
              "          const docLinkHtml = 'Like what you see? Visit the ' +\n",
              "            '<a target=\"_blank\" href=https://colab.research.google.com/notebooks/data_table.ipynb>data table notebook</a>'\n",
              "            + ' to learn more about interactive tables.';\n",
              "          element.innerHTML = '';\n",
              "          dataTable['output_type'] = 'display_data';\n",
              "          await google.colab.output.renderOutput(dataTable, element);\n",
              "          const docLink = document.createElement('div');\n",
              "          docLink.innerHTML = docLinkHtml;\n",
              "          element.appendChild(docLink);\n",
              "        }\n",
              "      </script>\n",
              "    </div>\n",
              "  </div>\n",
              "  "
            ],
            "text/plain": [
              "    Indians  Foreigners  ...  Foreigners_Female     other\n",
              "0  0.157911    0.707555  ...           0.017792  0.011666\n",
              "1  0.150537    0.706682  ...           0.013020  0.011728\n",
              "2  0.206311    0.690691  ...           0.011306  0.008950\n",
              "3  0.161150    0.706543  ...           0.009590  0.021092\n",
              "4  0.118217    0.704763  ...           0.007868  0.002544\n",
              "\n",
              "[5 rows x 7 columns]"
            ]
          },
          "metadata": {},
          "execution_count": 16
        }
      ]
    },
    {
      "cell_type": "markdown",
      "source": [
        "Clustering - Kmeans"
      ],
      "metadata": {
        "id": "njTzdhFC5bKt"
      }
    },
    {
      "cell_type": "code",
      "source": [
        "from sklearn.cluster import KMeans\n",
        "kmeans = KMeans(n_clusters=2)\n",
        "kmeans.fit(data1)\n",
        "pred=kmeans.predict(data1)"
      ],
      "metadata": {
        "id": "BUTOEVSVzjGx"
      },
      "execution_count": 17,
      "outputs": []
    },
    {
      "cell_type": "code",
      "source": [
        "pred, len(pred)"
      ],
      "metadata": {
        "colab": {
          "base_uri": "https://localhost:8080/"
        },
        "id": "x2y2GuabzjNs",
        "outputId": "14cb2e1c-6a63-4c92-9d5f-312b8f1f4c40"
      },
      "execution_count": 18,
      "outputs": [
        {
          "output_type": "execute_result",
          "data": {
            "text/plain": [
              "(array([0, 0, 0, 0, 1, 0, 1, 1, 1, 1, 0, 1, 1, 1, 1, 0, 1, 1, 1, 1, 1, 1,\n",
              "        1, 1, 1, 1, 1, 1, 1, 1, 1, 1, 1, 1, 1, 0, 1, 1], dtype=int32), 38)"
            ]
          },
          "metadata": {},
          "execution_count": 18
        }
      ]
    },
    {
      "cell_type": "code",
      "source": [
        "pd.Series(pred).value_counts()"
      ],
      "metadata": {
        "colab": {
          "base_uri": "https://localhost:8080/"
        },
        "id": "IMzTZA7LzvCO",
        "outputId": "b27eb708-d7e2-4d36-a4ab-77bc40fbff0c"
      },
      "execution_count": 19,
      "outputs": [
        {
          "output_type": "execute_result",
          "data": {
            "text/plain": [
              "1    30\n",
              "0     8\n",
              "dtype: int64"
            ]
          },
          "metadata": {},
          "execution_count": 19
        }
      ]
    },
    {
      "cell_type": "code",
      "source": [
        "kmeans.inertia_"
      ],
      "metadata": {
        "colab": {
          "base_uri": "https://localhost:8080/"
        },
        "id": "JDXa5YwOzxeo",
        "outputId": "199a398f-f9f7-4a49-ace3-cea4f7226f43"
      },
      "execution_count": 20,
      "outputs": [
        {
          "output_type": "execute_result",
          "data": {
            "text/plain": [
              "0.028113285898827115"
            ]
          },
          "metadata": {},
          "execution_count": 20
        }
      ]
    },
    {
      "cell_type": "code",
      "source": [
        "kmeans.score(data1)"
      ],
      "metadata": {
        "colab": {
          "base_uri": "https://localhost:8080/"
        },
        "id": "iRlluQ6iz1F2",
        "outputId": "61c23faa-32a6-4b61-c5f6-d262e2fb14a1"
      },
      "execution_count": 21,
      "outputs": [
        {
          "output_type": "execute_result",
          "data": {
            "text/plain": [
              "-0.02811328589882711"
            ]
          },
          "metadata": {},
          "execution_count": 21
        }
      ]
    },
    {
      "cell_type": "code",
      "source": [
        "# create the empty list contain the inertia score whenever the cluster process is performed over the data.\n",
        "\n",
        "SSE = []\n",
        "for cluster in range(1,10):\n",
        "    kmeans = KMeans(n_jobs = -1, n_clusters = cluster)\n",
        "    kmeans.fit(data1)\n",
        "    SSE.append(kmeans.inertia_)"
      ],
      "metadata": {
        "id": "dKLouuBrV5na"
      },
      "execution_count": null,
      "outputs": []
    },
    {
      "cell_type": "code",
      "source": [
        "frame = pd.DataFrame({'Cluster':range(1,10), 'SSE':SSE})"
      ],
      "metadata": {
        "id": "KTFQa6t4WABK"
      },
      "execution_count": null,
      "outputs": []
    },
    {
      "cell_type": "code",
      "source": [
        "plt.figure(figsize=(12,6))\n",
        "plt.plot(frame['Cluster'], frame['SSE'], marker='o')\n",
        "plt.xlabel('Number of clusters')\n",
        "plt.ylabel('Inertia')"
      ],
      "metadata": {
        "id": "w1qKyYq-WEDX"
      },
      "execution_count": null,
      "outputs": []
    },
    {
      "cell_type": "code",
      "source": [
        "kmeans = KMeans(n_clusters=3)\n",
        "kmeans.fit(data1)\n",
        "pred=kmeans.predict(data1)"
      ],
      "metadata": {
        "id": "ioJIWe-2z41v"
      },
      "execution_count": 25,
      "outputs": []
    },
    {
      "cell_type": "code",
      "source": [
        "data1['cluster'] = pred"
      ],
      "metadata": {
        "id": "KP2uvf_rz4-h"
      },
      "execution_count": 26,
      "outputs": []
    },
    {
      "cell_type": "code",
      "source": [
        "def seg(str_x, str_y, clusters):\n",
        "  x = []\n",
        "  y = []\n",
        "\n",
        "  for i in range(clusters):\n",
        "    x.append(data1[str_x][data1['cluster']==i])\n",
        "    y.append(data1[str_y][data1['cluster']==i])\n",
        "  \n",
        "  return x,y\n",
        "\n",
        "def plot_clusters(str_x, str_y, clusters):\n",
        "  plt.figure(figsize = (5,5), dpi = 120)\n",
        "  \n",
        "  x,y = seg(str_x, str_y, clusters)\n",
        "\n",
        "  for i in range(clusters):\n",
        "    plt.scatter(x[i], y[i], label = 'cluster{}'.format(i))\n",
        "  \n",
        "  plt.xlabel(str_x)\n",
        "  plt.ylabel(str_y)\n",
        "  plt.title(str(str_x+\" Vs \"+str_y))\n",
        "  plt.legend()"
      ],
      "metadata": {
        "id": "cjPrhIlizxnp"
      },
      "execution_count": 33,
      "outputs": []
    },
    {
      "cell_type": "code",
      "source": [
        "plot_clusters('Indians', 'Foreigners',3)"
      ],
      "metadata": {
        "colab": {
          "base_uri": "https://localhost:8080/",
          "height": 573
        },
        "id": "C1n2OGkVzxsp",
        "outputId": "1abb45db-659b-47da-8655-a6dd7d1389b7"
      },
      "execution_count": 29,
      "outputs": [
        {
          "output_type": "display_data",
          "data": {
            "image/png": "[encoded data removed]",
            "text/plain": [
              "<Figure size 600x600 with 1 Axes>"
            ]
          },
          "metadata": {
            "needs_background": "light"
          }
        }
      ]
    },
    {
      "cell_type": "code",
      "source": [
        "plot_clusters('Indian_Male', 'Foreigners_Male',3)"
      ],
      "metadata": {
        "colab": {
          "base_uri": "https://localhost:8080/",
          "height": 573
        },
        "id": "3a_hcV0W0kLV",
        "outputId": "d2922c0d-0a51-490d-8764-5c0e6b67b366"
      },
      "execution_count": 30,
      "outputs": [
        {
          "output_type": "display_data",
          "data": {
            "image/png": "[encoded data removed]",
            "text/plain": [
              "<Figure size 600x600 with 1 Axes>"
            ]
          },
          "metadata": {
            "needs_background": "light"
          }
        }
      ]
    },
    {
      "cell_type": "code",
      "source": [
        "plot_clusters('Indian_Female', 'Foreigners_Female',3)"
      ],
      "metadata": {
        "colab": {
          "base_uri": "https://localhost:8080/",
          "height": 573
        },
        "id": "CiBaDOnV0kQ-",
        "outputId": "932749c5-d613-46e8-81cd-fe26a0a6e433"
      },
      "execution_count": 31,
      "outputs": [
        {
          "output_type": "display_data",
          "data": {
            "image/png": "[encoded data removed]",
            "text/plain": [
              "<Figure size 600x600 with 1 Axes>"
            ]
          },
          "metadata": {
            "needs_background": "light"
          }
        }
      ]
    },
    {
      "cell_type": "code",
      "source": [
        "\n",
        "plot_clusters('other', 'Indians',3)"
      ],
      "metadata": {
        "colab": {
          "base_uri": "https://localhost:8080/",
          "height": 573
        },
        "id": "mNb0T3gj0kXD",
        "outputId": "c6bcc06a-9774-4fac-d755-2db3d4df2024"
      },
      "execution_count": 32,
      "outputs": [
        {
          "output_type": "display_data",
          "data": {
            "image/png": "[encoded data removed]",
            "text/plain": [
              "<Figure size 600x600 with 1 Axes>"
            ]
          },
          "metadata": {
            "needs_background": "light"
          }
        }
      ]
    }
  ]
}
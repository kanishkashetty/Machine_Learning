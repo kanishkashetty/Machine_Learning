{
  "nbformat": 4,
  "nbformat_minor": 0,
  "metadata": {
    "colab": {
      "name": "Ensemble models.ipynb",
      "provenance": [],
      "collapsed_sections": []
    },
    "kernelspec": {
      "name": "python3",
      "display_name": "Python 3"
    },
    "language_info": {
      "name": "python"
    }
  },
  "cells": [
    {
      "cell_type": "code",
      "execution_count": null,
      "metadata": {
        "colab": {
          "base_uri": "https://localhost:8080/"
        },
        "id": "OFqnJlyDGoUp",
        "outputId": "3542ff37-929b-4796-e82b-4bfa5f767e0d"
      },
      "outputs": [
        {
          "output_type": "stream",
          "name": "stdout",
          "text": [
            "Requirement already satisfied: scikit-learn in /usr/local/lib/python3.7/dist-packages (1.0.2)\n",
            "Requirement already satisfied: threadpoolctl>=2.0.0 in /usr/local/lib/python3.7/dist-packages (from scikit-learn) (3.1.0)\n",
            "Requirement already satisfied: scipy>=1.1.0 in /usr/local/lib/python3.7/dist-packages (from scikit-learn) (1.4.1)\n",
            "Requirement already satisfied: numpy>=1.14.6 in /usr/local/lib/python3.7/dist-packages (from scikit-learn) (1.21.5)\n",
            "Requirement already satisfied: joblib>=0.11 in /usr/local/lib/python3.7/dist-packages (from scikit-learn) (1.1.0)\n"
          ]
        }
      ],
      "source": [
        "!pip install  -U scikit-learn"
      ]
    },
    {
      "cell_type": "code",
      "source": [
        "import pandas as pd\n",
        "import numpy as np\n",
        "import matplotlib.pyplot as plt\n",
        "import warnings\n",
        "warnings.filterwarnings(action = 'ignore')"
      ],
      "metadata": {
        "id": "wQ-xNVz9Hwr4"
      },
      "execution_count": null,
      "outputs": []
    },
    {
      "cell_type": "code",
      "source": [
        "!python -m venv sklearn-venv"
      ],
      "metadata": {
        "colab": {
          "base_uri": "https://localhost:8080/"
        },
        "id": "FBk_CkKsH3B6",
        "outputId": "498c54ba-9987-4f88-b43f-c9347ac2ee57"
      },
      "execution_count": null,
      "outputs": [
        {
          "output_type": "stream",
          "name": "stdout",
          "text": [
            "Error: Command '['/content/sklearn-venv/bin/python3', '-Im', 'ensurepip', '--upgrade', '--default-pip']' returned non-zero exit status 1.\n"
          ]
        }
      ]
    },
    {
      "cell_type": "code",
      "source": [
        "!sklearn-venv\\Scripts\\activate"
      ],
      "metadata": {
        "colab": {
          "base_uri": "https://localhost:8080/"
        },
        "id": "wfD3eyfcH7FV",
        "outputId": "19ea2c4b-0561-42f3-f748-1df585ed0e69"
      },
      "execution_count": null,
      "outputs": [
        {
          "output_type": "stream",
          "name": "stdout",
          "text": [
            "/bin/bash: sklearn-venvScriptsactivate: command not found\n"
          ]
        }
      ]
    },
    {
      "cell_type": "code",
      "source": [
        "!python -m pip show scikit-learn\n"
      ],
      "metadata": {
        "colab": {
          "base_uri": "https://localhost:8080/"
        },
        "id": "xomsm8t6IDWD",
        "outputId": "28851e72-6351-4c9c-ddd6-0443756d7716"
      },
      "execution_count": null,
      "outputs": [
        {
          "output_type": "stream",
          "name": "stdout",
          "text": [
            "Name: scikit-learn\n",
            "Version: 1.0.2\n",
            "Summary: A set of python modules for machine learning and data mining\n",
            "Home-page: http://scikit-learn.org\n",
            "Author: None\n",
            "Author-email: None\n",
            "License: new BSD\n",
            "Location: /usr/local/lib/python3.7/dist-packages\n",
            "Requires: threadpoolctl, numpy, joblib, scipy\n",
            "Required-by: sklearn, sklearn-pandas, mlxtend, lightgbm, librosa, imbalanced-learn\n"
          ]
        }
      ]
    },
    {
      "cell_type": "code",
      "source": [
        "data = pd.read_csv('/content/drive/MyDrive/M8T3_helper_text/churn_prediction_simple.csv')\n",
        "data.info()"
      ],
      "metadata": {
        "colab": {
          "base_uri": "https://localhost:8080/"
        },
        "id": "uVYqsgjkIJs6",
        "outputId": "cd03a244-3687-4b03-a266-3c1eb282d592"
      },
      "execution_count": null,
      "outputs": [
        {
          "output_type": "stream",
          "name": "stdout",
          "text": [
            "<class 'pandas.core.frame.DataFrame'>\n",
            "RangeIndex: 22067 entries, 0 to 22066\n",
            "Data columns (total 21 columns):\n",
            " #   Column                          Non-Null Count  Dtype  \n",
            "---  ------                          --------------  -----  \n",
            " 0   customer_id                     22067 non-null  int64  \n",
            " 1   vintage                         22067 non-null  int64  \n",
            " 2   age                             22067 non-null  int64  \n",
            " 3   gender                          22067 non-null  int64  \n",
            " 4   dependents                      22067 non-null  float64\n",
            " 5   occupation                      22067 non-null  int64  \n",
            " 6   city                            22067 non-null  float64\n",
            " 7   customer_nw_category            22067 non-null  int64  \n",
            " 8   branch_code                     22067 non-null  int64  \n",
            " 9   days_since_last_transaction     22067 non-null  float64\n",
            " 10  current_balance                 22067 non-null  float64\n",
            " 11  previous_month_end_balance      22067 non-null  float64\n",
            " 12  average_monthly_balance_prevQ   22067 non-null  float64\n",
            " 13  average_monthly_balance_prevQ2  22067 non-null  float64\n",
            " 14  current_month_credit            22067 non-null  float64\n",
            " 15  previous_month_credit           22067 non-null  float64\n",
            " 16  current_month_debit             22067 non-null  float64\n",
            " 17  previous_month_debit            22067 non-null  float64\n",
            " 18  current_month_balance           22067 non-null  float64\n",
            " 19  previous_month_balance          22067 non-null  float64\n",
            " 20  churn                           22067 non-null  int64  \n",
            "dtypes: float64(13), int64(8)\n",
            "memory usage: 3.5 MB\n"
          ]
        }
      ]
    },
    {
      "cell_type": "code",
      "source": [
        "#separating dependent and independent varibales\n",
        "\n",
        "\n",
        "X = data.drop(columns = ['churn','customer_id'])\n",
        "Y = data['churn']\n"
      ],
      "metadata": {
        "id": "xdQJ8iUHIRa_"
      },
      "execution_count": null,
      "outputs": []
    },
    {
      "cell_type": "code",
      "source": [
        "#Scaling the dataset\n",
        "\n",
        "from sklearn.preprocessing import StandardScaler\n",
        "scaler = StandardScaler()\n",
        "scaled_X = scaler.fit_transform(X)"
      ],
      "metadata": {
        "id": "090kvnq2IYDb"
      },
      "execution_count": null,
      "outputs": []
    },
    {
      "cell_type": "code",
      "source": [
        "#splitting the dataset\n",
        "\n",
        "from sklearn.model_selection import train_test_split as tts\n",
        "x_train, x_test, y_train, y_test = tts(scaled_X, Y, train_size = 0.80, stratify = Y, random_state = 101)\n",
        "x_train.shape, x_test.shape, y_train.shape, y_test.shape"
      ],
      "metadata": {
        "colab": {
          "base_uri": "https://localhost:8080/"
        },
        "id": "61UMIjYSIf6J",
        "outputId": "ac994102-e66a-4466-90f6-20535e0f5ad3"
      },
      "execution_count": null,
      "outputs": [
        {
          "output_type": "execute_result",
          "data": {
            "text/plain": [
              "((17653, 19), (4414, 19), (17653,), (4414,))"
            ]
          },
          "metadata": {},
          "execution_count": 12
        }
      ]
    },
    {
      "cell_type": "markdown",
      "source": [
        "## Model Building, Bagging Logistic Regression"
      ],
      "metadata": {
        "id": "9hzU_00VIy62"
      }
    },
    {
      "cell_type": "code",
      "source": [
        "from sklearn.ensemble import BaggingClassifier as BC\n",
        "classifier = BC()\n",
        "classifier.fit(x_train,y_train)"
      ],
      "metadata": {
        "colab": {
          "base_uri": "https://localhost:8080/"
        },
        "id": "5G5G1J0rImgz",
        "outputId": "62b3f860-c0e5-4b22-e5d3-7bd0b834e5af"
      },
      "execution_count": null,
      "outputs": [
        {
          "output_type": "execute_result",
          "data": {
            "text/plain": [
              "BaggingClassifier()"
            ]
          },
          "metadata": {},
          "execution_count": 13
        }
      ]
    },
    {
      "cell_type": "code",
      "source": [
        "from sklearn.linear_model import LogisticRegression as LR\n",
        "\n",
        "classifier = BC(base_estimator = LR(),\n",
        "                n_estimators = 150,\n",
        "                n_jobs = -1,\n",
        "                random_state = 42)\n",
        "classifier.fit(x_train, y_train)\n",
        "predicted_values = classifier.predict(x_train)"
      ],
      "metadata": {
        "id": "WdeBLKroI3Rc"
      },
      "execution_count": null,
      "outputs": []
    },
    {
      "cell_type": "code",
      "source": [
        "from sklearn.metrics import classification_report\n",
        "print(classification_report(y_train, predicted_values))"
      ],
      "metadata": {
        "colab": {
          "base_uri": "https://localhost:8080/"
        },
        "id": "8MTyi_l9I3Z0",
        "outputId": "21fb04fb-8b2c-4964-9e41-20c8c247f563"
      },
      "execution_count": null,
      "outputs": [
        {
          "output_type": "stream",
          "name": "stdout",
          "text": [
            "              precision    recall  f1-score   support\n",
            "\n",
            "           0       0.82      0.99      0.90     14234\n",
            "           1       0.75      0.08      0.15      3419\n",
            "\n",
            "    accuracy                           0.82     17653\n",
            "   macro avg       0.78      0.54      0.52     17653\n",
            "weighted avg       0.80      0.82      0.75     17653\n",
            "\n"
          ]
        }
      ]
    },
    {
      "cell_type": "code",
      "source": [
        "predicted_values = classifier.predict(x_test)\n",
        "print(classification_report(y_test, predicted_values))"
      ],
      "metadata": {
        "colab": {
          "base_uri": "https://localhost:8080/"
        },
        "id": "xClsiB6kI3fM",
        "outputId": "59ab13fd-d971-4499-9c51-ce1757025cc2"
      },
      "execution_count": null,
      "outputs": [
        {
          "output_type": "stream",
          "name": "stdout",
          "text": [
            "              precision    recall  f1-score   support\n",
            "\n",
            "           0       0.82      0.99      0.90      3559\n",
            "           1       0.78      0.09      0.16       855\n",
            "\n",
            "    accuracy                           0.82      4414\n",
            "   macro avg       0.80      0.54      0.53      4414\n",
            "weighted avg       0.81      0.82      0.76      4414\n",
            "\n"
          ]
        }
      ]
    },
    {
      "cell_type": "markdown",
      "source": [
        "# Model Building, Random Forest"
      ],
      "metadata": {
        "id": "5XGJuSFJJSHj"
      }
    },
    {
      "cell_type": "code",
      "source": [
        "from sklearn.ensemble import RandomForestClassifier as RFC\n",
        "classifier = RFC()\n",
        "classifier.fit(x_train,y_train)"
      ],
      "metadata": {
        "colab": {
          "base_uri": "https://localhost:8080/"
        },
        "id": "mhsQ2XdcJFrJ",
        "outputId": "2b32665d-bb85-4a38-95a0-ec06fea380fc"
      },
      "execution_count": null,
      "outputs": [
        {
          "output_type": "execute_result",
          "data": {
            "text/plain": [
              "RandomForestClassifier()"
            ]
          },
          "metadata": {},
          "execution_count": 17
        }
      ]
    },
    {
      "cell_type": "code",
      "source": [
        "predicted_values = classifier.predict(x_train)\n",
        "print(classification_report(y_train, predicted_values))"
      ],
      "metadata": {
        "colab": {
          "base_uri": "https://localhost:8080/"
        },
        "id": "5G7PkFsXJF6B",
        "outputId": "369bf85f-00a0-4526-8c18-fd031dc3ea42"
      },
      "execution_count": null,
      "outputs": [
        {
          "output_type": "stream",
          "name": "stdout",
          "text": [
            "              precision    recall  f1-score   support\n",
            "\n",
            "           0       1.00      1.00      1.00     14234\n",
            "           1       1.00      1.00      1.00      3419\n",
            "\n",
            "    accuracy                           1.00     17653\n",
            "   macro avg       1.00      1.00      1.00     17653\n",
            "weighted avg       1.00      1.00      1.00     17653\n",
            "\n"
          ]
        }
      ]
    },
    {
      "cell_type": "code",
      "source": [
        "predicted_values = classifier.predict(x_test)\n",
        "print(classification_report(y_test, predicted_values))"
      ],
      "metadata": {
        "colab": {
          "base_uri": "https://localhost:8080/"
        },
        "id": "VRtOl3-dJGHC",
        "outputId": "c58c46fa-83b0-4cdf-81ca-5ac5314d54cb"
      },
      "execution_count": null,
      "outputs": [
        {
          "output_type": "stream",
          "name": "stdout",
          "text": [
            "              precision    recall  f1-score   support\n",
            "\n",
            "           0       0.88      0.96      0.92      3559\n",
            "           1       0.71      0.45      0.56       855\n",
            "\n",
            "    accuracy                           0.86      4414\n",
            "   macro avg       0.80      0.71      0.74      4414\n",
            "weighted avg       0.85      0.86      0.85      4414\n",
            "\n"
          ]
        }
      ]
    },
    {
      "cell_type": "markdown",
      "source": [
        "## Model Building, predictions"
      ],
      "metadata": {
        "id": "Z3WAaxB2Jgi2"
      }
    },
    {
      "cell_type": "code",
      "source": [
        "from sklearn.ensemble import RandomForestClassifier as RFC\n",
        "classifier = RFC()"
      ],
      "metadata": {
        "id": "6jMcHkjJJGS-"
      },
      "execution_count": null,
      "outputs": []
    },
    {
      "cell_type": "code",
      "source": [
        "classifier.fit(x_train, y_train)"
      ],
      "metadata": {
        "colab": {
          "base_uri": "https://localhost:8080/"
        },
        "id": "aNNYTQjzJo-v",
        "outputId": "ab881ea4-82bf-488f-e55a-b71ede144333"
      },
      "execution_count": null,
      "outputs": [
        {
          "output_type": "execute_result",
          "data": {
            "text/plain": [
              "RandomForestClassifier()"
            ]
          },
          "metadata": {},
          "execution_count": 21
        }
      ]
    },
    {
      "cell_type": "markdown",
      "source": [
        "##Evaluation Metrics"
      ],
      "metadata": {
        "id": "C2SxcyUdJuAe"
      }
    },
    {
      "cell_type": "code",
      "source": [
        "# Hyperparamter Tuning\n",
        "\n",
        "classifier = RFC()\n",
        "classifier.fit(x_train, y_train)"
      ],
      "metadata": {
        "colab": {
          "base_uri": "https://localhost:8080/"
        },
        "id": "dWvrc25IJs-A",
        "outputId": "8e0de836-e826-4167-ee07-7d5fd982d90b"
      },
      "execution_count": null,
      "outputs": [
        {
          "output_type": "execute_result",
          "data": {
            "text/plain": [
              "RandomForestClassifier()"
            ]
          },
          "metadata": {},
          "execution_count": 22
        }
      ]
    },
    {
      "cell_type": "markdown",
      "source": [
        "## n_estimators"
      ],
      "metadata": {
        "id": "r5A6WM73J5Km"
      }
    },
    {
      "cell_type": "code",
      "source": [
        "from sklearn.metrics import f1_score\n",
        "def calc_score(model, x1, y1, x2, y2):\n",
        "\n",
        "  model.fit(x1,y1)\n",
        "\n",
        "  predict = model.predict(x1)\n",
        "  f1 = f1_score(y1, predict)\n",
        "\n",
        "  predict = model.predict(x2)\n",
        "  f2 = f1_score(y2, predict)\n",
        "\n",
        "  return f1, f2"
      ],
      "metadata": {
        "id": "dV0zNtPfJ-xd"
      },
      "execution_count": null,
      "outputs": []
    },
    {
      "cell_type": "code",
      "source": [
        "def effect(train_score, test_score, x_axis, title):\n",
        "  plt.figure(figsize = (7,4), dpi = 120)\n",
        "  plt.plot(x_axis, train_score, color = 'red', label = 'train_Score')\n",
        "  plt.plot(x_axis, test_score, color = 'blue', label = 'test_Score')\n",
        "  plt.title(title)\n",
        "  plt.legend()\n",
        "  plt.xlabel(\"parameter_value\")\n",
        "  plt.ylabel(\"f1 score\")\n",
        "  plt.show()\n"
      ],
      "metadata": {
        "id": "KlvHzqgXJ_BM"
      },
      "execution_count": null,
      "outputs": []
    },
    {
      "cell_type": "code",
      "source": [
        "estimators = [i for i in range(1,600,10)]\n",
        "train = []\n",
        "test = []\n",
        "\n",
        "for i in estimators:  \n",
        "  model = RFC(class_weight = 'balanced_subsample',\n",
        "              n_estimators = i,\n",
        "              n_jobs = -1,\n",
        "              max_depth = 7,\n",
        "              random_state = 101)\n",
        "  f1, f2 = calc_score(model, x_train, y_train, x_test, y_test)\n",
        "  train.append(f1)\n",
        "  test.append(f2)"
      ],
      "metadata": {
        "id": "bMFE5n2_J_JL"
      },
      "execution_count": null,
      "outputs": []
    },
    {
      "cell_type": "code",
      "source": [
        "effect( train, test, range(1,600,10) , 'n_estimators')"
      ],
      "metadata": {
        "colab": {
          "base_uri": "https://localhost:8080/",
          "height": 482
        },
        "id": "OYzFCAh-KIxQ",
        "outputId": "e8c39ccb-25a8-4afd-bb83-2cdf5a0648ae"
      },
      "execution_count": null,
      "outputs": [
        {
          "output_type": "display_data",
          "data": {
            "image/png": "[encoded data removed]",
            "text/plain": [
              "<Figure size 840x480 with 1 Axes>"
            ]
          },
          "metadata": {
            "needs_background": "light"
          }
        }
      ]
    },
    {
      "cell_type": "markdown",
      "source": [
        "## max_samples"
      ],
      "metadata": {
        "id": "to5Lw-c7KSpy"
      }
    },
    {
      "cell_type": "code",
      "source": [
        "maxsamples = [i/1000 for i in range(1,1000)]\n",
        "train = []\n",
        "test = []\n",
        "\n",
        "for i in maxsamples:  \n",
        "  model = RFC(class_weight = 'balanced_subsample', n_estimators = 50,\n",
        "              n_jobs = -1, max_depth = 7, random_state = 101, max_samples = i)\n",
        "  f1, f2 = calc_score(model, x_train, y_train, x_test, y_test)\n",
        "  train.append(f1)\n",
        "  test.append(f2)"
      ],
      "metadata": {
        "id": "Jydt-BZvKJSP"
      },
      "execution_count": null,
      "outputs": []
    },
    {
      "cell_type": "code",
      "source": [
        "effect( train, test, maxsamples , 'bootstrap sample fraction')"
      ],
      "metadata": {
        "colab": {
          "base_uri": "https://localhost:8080/",
          "height": 482
        },
        "id": "3Hb3KmwhKcN9",
        "outputId": "db0c9630-9bdc-41f0-b381-d1155385723e"
      },
      "execution_count": null,
      "outputs": [
        {
          "output_type": "display_data",
          "data": {
            "image/png": "[encoded data removed]",
            "text/plain": [
              "<Figure size 840x480 with 1 Axes>"
            ]
          },
          "metadata": {
            "needs_background": "light"
          }
        }
      ]
    },
    {
      "cell_type": "code",
      "source": [
        "maxfeatures = range(1,X.shape[1])\n",
        "train = []\n",
        "test = []\n",
        "\n",
        "for i in maxfeatures:  \n",
        "  model = RFC(class_weight = 'balanced_subsample', n_estimators = 50,\n",
        "              n_jobs = -1, max_depth = 7, random_state = 101, max_features = i)\n",
        "  f1, f2 = calc_score(model, x_train, y_train, x_test, y_test)\n",
        "  train.append(f1)\n",
        "  test.append(f2)"
      ],
      "metadata": {
        "id": "w6k6CYhZKmbD"
      },
      "execution_count": null,
      "outputs": []
    },
    {
      "cell_type": "code",
      "source": [
        "effect( train, test, maxfeatures , 'number of max features for individual tree')"
      ],
      "metadata": {
        "colab": {
          "base_uri": "https://localhost:8080/",
          "height": 482
        },
        "id": "r5fHHYHdK3nx",
        "outputId": "509eac93-0fe3-401f-d1d7-90003450395f"
      },
      "execution_count": null,
      "outputs": [
        {
          "output_type": "display_data",
          "data": {
            "image/png": "[encoded data removed]",
            "text/plain": [
              "<Figure size 840x480 with 1 Axes>"
            ]
          },
          "metadata": {
            "needs_background": "light"
          }
        }
      ]
    }
  ]
}